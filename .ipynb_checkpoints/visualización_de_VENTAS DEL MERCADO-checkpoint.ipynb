{
 "cells": [
  {
   "cell_type": "markdown",
   "metadata": {
    "id": "qufacrcSL9UW"
   },
   "source": [
    "invoice_id: Es un identificador único para cada factura o transacción de venta en el supermercado.\n",
    "\n",
    "branch: Representa la sucursal del supermercado donde se realizó la venta.\n",
    "\n",
    "city: La ciudad donde se encuentra la sucursal del supermercado.\n",
    "\n",
    "customer_type: El tipo de cliente, puede ser por ejemplo \"Miembro\" o \"No miembro\".\n",
    "\n",
    "gender_customer: El género del cliente que realizó la compra.\n",
    "\n",
    "product_line: La línea de productos o categoría a la que pertenece el artículo vendido.\n",
    "\n",
    "unit_cost: El costo unitario de un artículo.\n",
    "\n",
    "quantity: La cantidad de artículos comprados por el cliente.\n",
    "\n",
    "5pct_markup: El porcentaje de marca aplicado al costo unitario para obtener el precio de venta.\n",
    "\n",
    "revenue: Los ingresos generados por la venta de un artículo, calculados como el precio de venta multiplicado por la cantidad.\n",
    "\n",
    "date: La fecha en que se realizó la venta.\n",
    "\n",
    "time: La hora a la que se realizó la venta.\n",
    "\n",
    "payment_method: El método de pago utilizado por el cliente.\n",
    "\n",
    "cogs: El costo de bienes vendidos, es decir, el costo total de los artículos vendidos.\n",
    "\n",
    "gm_pct: El porcentaje de margen bruto, calculado como (revenue - cogs) / revenue.\n",
    "\n",
    "gross_income: El ingreso bruto, es decir, la ganancia total obtenida después de deducir el costo de los bienes vendidos (COGS).\n",
    "\n",
    "rating: La calificación o valoración dada por el cliente sobre su experiencia de compra.\n",
    "\n"
   ]
  },
  {
   "cell_type": "markdown",
   "metadata": {
    "id": "yEzZTpmH8hJH"
   },
   "source": [
    "# Preguntas de análisis de Datos\n",
    "\n",
    "1. ¿Cuál es la distribución de ventas por sucursal y ciudad?\n",
    "\n",
    "Puedes analizar las ventas totales y el número de transacciones realizadas en cada sucursal y ciudad. Esto puede ayudarte a identificar las ubicaciones más rentables y las tendencias de compra en diferentes áreas.\n",
    "\n",
    "2. ¿Cuál es el producto más vendido en cada sucursal?\n",
    "\n",
    "Puedes determinar los productos más populares en cada sucursal analizando las cantidades vendidas de cada línea de producto.\n",
    "\n",
    "3. ¿Hay una relación entre el género del cliente y el tipo de producto comprado?\n",
    "\n",
    "Explora si existe alguna correlación entre el género del cliente y las líneas de productos que compran. Esto podría ayudarte a ajustar tu estrategia de marketing según el género de tus clientes.\n",
    "\n",
    "4. ¿Cuál es el método de pago más utilizado y cuál genera más ingresos?\n",
    "\n",
    "Examina los diferentes métodos de pago utilizados por los clientes y calcula los ingresos generados por cada método. Esto podría ayudarte a optimizar tus opciones de pago y promociones asociadas.\n",
    "\n",
    "5. ¿Cuál es la relación entre la calificación del cliente y el monto gastado?\n",
    "\n",
    "Investiga si existe alguna correlación entre la calificación dada por el cliente y el monto total gastado en una transacción. Esto podría proporcionar información sobre la satisfacción del cliente y su impacto en las ventas.\n",
    "\n",
    "6. ¿Cuál es la tendencia de ingresos a lo largo del tiempo?\n",
    "\n",
    "Analiza cómo han variado los ingresos a lo largo del tiempo. Puedes agrupar los datos por mes o trimestre para identificar patrones estacionales o tendencias a largo plazo en las ventas."
   ]
  },
  {
   "cell_type": "markdown",
   "metadata": {
    "id": "zo9pTQDVLh__"
   },
   "source": [
    "# **(Machine Learning) que puede ayudar a minimizar costos y aumentar el impacto económico**\n",
    "\n",
    "1. Predicción de ventas futuras:\n",
    "\n",
    "Sí, es posible utilizar técnicas de regresión para predecir las ventas futuras del supermercado. Se pueden utilizar características como la ciudad, el tipo de cliente, el género del cliente, el tipo de producto, etc., como variables predictoras para entrenar el modelo de regresión.\n",
    "\n",
    "2. Segmentación de clientes:\n",
    "\n",
    "Sí, se pueden utilizar algoritmos de clustering, como K-Means, para segmentar a los clientes en grupos basados en su comportamiento de compra. Las características como el tipo de producto preferido, la frecuencia de compra y el gasto promedio pueden ser utilizadas como características de entrada para el algoritmo de clustering.\n",
    "\n",
    "3. Análisis de precios y márgenes:\n",
    "\n",
    "Sí, es posible realizar un análisis de precios y márgenes utilizando técnicas de regresión y análisis de correlación. Se puede explorar la relación entre el precio de los productos, los márgenes brutos y la satisfacción del cliente para identificar productos con precios óptimos que maximicen los ingresos.\n",
    "\n",
    "4. Detección de patrones de compra:\n",
    "\n",
    "Sí, se pueden utilizar técnicas de minería de datos y análisis de secuencias para identificar patrones de compra comunes entre los clientes. Se pueden utilizar algoritmos como Apriori o FP-Growth para descubrir patrones de compra frecuentes y asociaciones entre diferentes productos.\n",
    "\n",
    "5. Predicción de la calificación del cliente:\n",
    "\n",
    "Sí, es posible utilizar técnicas de clasificación para predecir la calificación que un cliente dará a su experiencia de compra. Se pueden utilizar características como el tipo de producto, la ciudad, el género, etc., como variables predictoras para entrenar el modelo de clasificación.\n",
    "\n",
    "6. Optimización del inventario:\n",
    "\n",
    "Sí, se pueden utilizar técnicas de series temporales y modelos de demanda para predecir la demanda de productos y optimizar el inventario en función de las ventas históricas y las tendencias de compra. Se pueden utilizar algoritmos como ARIMA o modelos de aprendizaje profundo para predecir la demanda futura y optimizar los niveles de inventario."
   ]
  },
  {
   "cell_type": "code",
   "execution_count": 160,
   "metadata": {
    "id": "cYLnledc3eBo"
   },
   "outputs": [],
   "source": [
    "import pandas as pd\n",
    "import numpy as np\n",
    "import matplotlib.pyplot as plt\n",
    "import seaborn as sns\n",
    "import plotly.express as px"
   ]
  },
  {
   "cell_type": "code",
   "execution_count": 161,
   "metadata": {
    "id": "7ThAQrdj4AbK"
   },
   "outputs": [],
   "source": [
    "df_supermarket_sales = pd.read_csv('supermarket_sales.csv')"
   ]
  },
  {
   "cell_type": "code",
   "execution_count": 162,
   "metadata": {
    "colab": {
     "base_uri": "https://localhost:8080/",
     "height": 313
    },
    "id": "6D2smrsD5xYL",
    "outputId": "96296570-0016-4183-e7ab-663d14de846f"
   },
   "outputs": [
    {
     "data": {
      "text/html": [
       "<div>\n",
       "<style scoped>\n",
       "    .dataframe tbody tr th:only-of-type {\n",
       "        vertical-align: middle;\n",
       "    }\n",
       "\n",
       "    .dataframe tbody tr th {\n",
       "        vertical-align: top;\n",
       "    }\n",
       "\n",
       "    .dataframe thead th {\n",
       "        text-align: right;\n",
       "    }\n",
       "</style>\n",
       "<table border=\"1\" class=\"dataframe\">\n",
       "  <thead>\n",
       "    <tr style=\"text-align: right;\">\n",
       "      <th></th>\n",
       "      <th>invoice_id</th>\n",
       "      <th>branch</th>\n",
       "      <th>city</th>\n",
       "      <th>customer_type</th>\n",
       "      <th>gender_customer</th>\n",
       "      <th>product_line</th>\n",
       "      <th>unit_cost</th>\n",
       "      <th>quantity</th>\n",
       "      <th>5pct_markup</th>\n",
       "      <th>revenue</th>\n",
       "      <th>date</th>\n",
       "      <th>time</th>\n",
       "      <th>payment_method</th>\n",
       "      <th>cogs</th>\n",
       "      <th>gm_pct</th>\n",
       "      <th>gross_income</th>\n",
       "      <th>rating</th>\n",
       "    </tr>\n",
       "  </thead>\n",
       "  <tbody>\n",
       "    <tr>\n",
       "      <th>0</th>\n",
       "      <td>750-67-8428</td>\n",
       "      <td>A</td>\n",
       "      <td>Yangon</td>\n",
       "      <td>Member</td>\n",
       "      <td>Female</td>\n",
       "      <td>Health and beauty</td>\n",
       "      <td>74.69</td>\n",
       "      <td>7</td>\n",
       "      <td>26.1415</td>\n",
       "      <td>548.9715</td>\n",
       "      <td>01/05/19</td>\n",
       "      <td>13:08</td>\n",
       "      <td>Ewallet</td>\n",
       "      <td>522.83</td>\n",
       "      <td>4.761905</td>\n",
       "      <td>26.1415</td>\n",
       "      <td>9.1</td>\n",
       "    </tr>\n",
       "    <tr>\n",
       "      <th>1</th>\n",
       "      <td>226-31-3081</td>\n",
       "      <td>C</td>\n",
       "      <td>Naypyitaw</td>\n",
       "      <td>Normal</td>\n",
       "      <td>Female</td>\n",
       "      <td>Electronic accessories</td>\n",
       "      <td>15.28</td>\n",
       "      <td>5</td>\n",
       "      <td>3.8200</td>\n",
       "      <td>80.2200</td>\n",
       "      <td>03/08/19</td>\n",
       "      <td>10:29</td>\n",
       "      <td>Cash</td>\n",
       "      <td>76.40</td>\n",
       "      <td>4.761905</td>\n",
       "      <td>3.8200</td>\n",
       "      <td>9.6</td>\n",
       "    </tr>\n",
       "    <tr>\n",
       "      <th>2</th>\n",
       "      <td>631-41-3108</td>\n",
       "      <td>A</td>\n",
       "      <td>Yangon</td>\n",
       "      <td>Normal</td>\n",
       "      <td>Male</td>\n",
       "      <td>Home and lifestyle</td>\n",
       "      <td>46.33</td>\n",
       "      <td>7</td>\n",
       "      <td>16.2155</td>\n",
       "      <td>340.5255</td>\n",
       "      <td>03/03/19</td>\n",
       "      <td>13:23</td>\n",
       "      <td>Credit card</td>\n",
       "      <td>324.31</td>\n",
       "      <td>4.761905</td>\n",
       "      <td>16.2155</td>\n",
       "      <td>7.4</td>\n",
       "    </tr>\n",
       "    <tr>\n",
       "      <th>3</th>\n",
       "      <td>123-19-1176</td>\n",
       "      <td>A</td>\n",
       "      <td>Yangon</td>\n",
       "      <td>Member</td>\n",
       "      <td>Male</td>\n",
       "      <td>Health and beauty</td>\n",
       "      <td>58.22</td>\n",
       "      <td>8</td>\n",
       "      <td>23.2880</td>\n",
       "      <td>489.0480</td>\n",
       "      <td>1/27/2019</td>\n",
       "      <td>20:33</td>\n",
       "      <td>Ewallet</td>\n",
       "      <td>465.76</td>\n",
       "      <td>4.761905</td>\n",
       "      <td>23.2880</td>\n",
       "      <td>8.4</td>\n",
       "    </tr>\n",
       "    <tr>\n",
       "      <th>4</th>\n",
       "      <td>373-73-7910</td>\n",
       "      <td>A</td>\n",
       "      <td>Yangon</td>\n",
       "      <td>Normal</td>\n",
       "      <td>Male</td>\n",
       "      <td>Sports and travel</td>\n",
       "      <td>86.31</td>\n",
       "      <td>7</td>\n",
       "      <td>30.2085</td>\n",
       "      <td>634.3785</td>\n",
       "      <td>02/08/19</td>\n",
       "      <td>10:37</td>\n",
       "      <td>Ewallet</td>\n",
       "      <td>604.17</td>\n",
       "      <td>4.761905</td>\n",
       "      <td>30.2085</td>\n",
       "      <td>5.3</td>\n",
       "    </tr>\n",
       "  </tbody>\n",
       "</table>\n",
       "</div>"
      ],
      "text/plain": [
       "    invoice_id branch       city customer_type gender_customer  \\\n",
       "0  750-67-8428      A     Yangon        Member          Female   \n",
       "1  226-31-3081      C  Naypyitaw        Normal          Female   \n",
       "2  631-41-3108      A     Yangon        Normal            Male   \n",
       "3  123-19-1176      A     Yangon        Member            Male   \n",
       "4  373-73-7910      A     Yangon        Normal            Male   \n",
       "\n",
       "             product_line  unit_cost  quantity  5pct_markup   revenue  \\\n",
       "0       Health and beauty      74.69         7      26.1415  548.9715   \n",
       "1  Electronic accessories      15.28         5       3.8200   80.2200   \n",
       "2      Home and lifestyle      46.33         7      16.2155  340.5255   \n",
       "3       Health and beauty      58.22         8      23.2880  489.0480   \n",
       "4       Sports and travel      86.31         7      30.2085  634.3785   \n",
       "\n",
       "        date   time payment_method    cogs    gm_pct  gross_income  rating  \n",
       "0   01/05/19  13:08        Ewallet  522.83  4.761905       26.1415     9.1  \n",
       "1   03/08/19  10:29           Cash   76.40  4.761905        3.8200     9.6  \n",
       "2   03/03/19  13:23    Credit card  324.31  4.761905       16.2155     7.4  \n",
       "3  1/27/2019  20:33        Ewallet  465.76  4.761905       23.2880     8.4  \n",
       "4   02/08/19  10:37        Ewallet  604.17  4.761905       30.2085     5.3  "
      ]
     },
     "execution_count": 162,
     "metadata": {},
     "output_type": "execute_result"
    }
   ],
   "source": [
    "df_supermarket_sales.head()"
   ]
  },
  {
   "cell_type": "code",
   "execution_count": 163,
   "metadata": {
    "colab": {
     "base_uri": "https://localhost:8080/"
    },
    "id": "lT1oscVb56Ou",
    "outputId": "006c1b55-3cf3-4892-c67a-d57d08ae10c8"
   },
   "outputs": [
    {
     "data": {
      "text/plain": [
       "(1000, 17)"
      ]
     },
     "execution_count": 163,
     "metadata": {},
     "output_type": "execute_result"
    }
   ],
   "source": [
    "df_supermarket_sales.shape"
   ]
  },
  {
   "cell_type": "code",
   "execution_count": 164,
   "metadata": {
    "colab": {
     "base_uri": "https://localhost:8080/"
    },
    "id": "8SqLvERJA79j",
    "outputId": "95411f84-213b-46be-d231-dba6fdc28ed7"
   },
   "outputs": [
    {
     "data": {
      "text/plain": [
       "invoice_id          object\n",
       "branch              object\n",
       "city                object\n",
       "customer_type       object\n",
       "gender_customer     object\n",
       "product_line        object\n",
       "unit_cost          float64\n",
       "quantity             int64\n",
       "5pct_markup        float64\n",
       "revenue            float64\n",
       "date                object\n",
       "time                object\n",
       "payment_method      object\n",
       "cogs               float64\n",
       "gm_pct             float64\n",
       "gross_income       float64\n",
       "rating             float64\n",
       "dtype: object"
      ]
     },
     "execution_count": 164,
     "metadata": {},
     "output_type": "execute_result"
    }
   ],
   "source": [
    "df_supermarket_sales.dtypes"
   ]
  },
  {
   "cell_type": "code",
   "execution_count": 165,
   "metadata": {
    "colab": {
     "base_uri": "https://localhost:8080/"
    },
    "id": "JxfpyZ19RTEC",
    "outputId": "8f0d8fe6-af7c-49ee-dea7-f7b7a7009265"
   },
   "outputs": [
    {
     "data": {
      "text/plain": [
       "invoice_id         0\n",
       "branch             0\n",
       "city               0\n",
       "customer_type      0\n",
       "gender_customer    0\n",
       "product_line       0\n",
       "unit_cost          0\n",
       "quantity           0\n",
       "5pct_markup        0\n",
       "revenue            0\n",
       "date               0\n",
       "time               0\n",
       "payment_method     0\n",
       "cogs               0\n",
       "gm_pct             0\n",
       "gross_income       0\n",
       "rating             0\n",
       "dtype: int64"
      ]
     },
     "execution_count": 165,
     "metadata": {},
     "output_type": "execute_result"
    }
   ],
   "source": [
    "df_supermarket_sales.isnull().sum()"
   ]
  },
  {
   "cell_type": "code",
   "execution_count": 166,
   "metadata": {
    "id": "9vCELiQASs4_"
   },
   "outputs": [],
   "source": [
    "# cambiar columnas los nombres de las columnas\n",
    "df_supermarket_sales.rename(columns={'5pct_markup': '5%_of_gross_income', 'revenue': 'Total'}, inplace=True)"
   ]
  },
  {
   "cell_type": "code",
   "execution_count": 167,
   "metadata": {
    "id": "2MnfxirGVuKv"
   },
   "outputs": [],
   "source": [
    "df_supermarket_sales = df_supermarket_sales[['invoice_id', 'branch', 'city', 'customer_type', 'gender_customer',\n",
    "       'product_line', 'unit_cost', 'quantity', 'cogs', '5%_of_gross_income', 'Total',\n",
    "       'date', 'time', 'payment_method', 'gm_pct', 'gross_income',\n",
    "       'rating']]"
   ]
  },
  {
   "cell_type": "code",
   "execution_count": 168,
   "metadata": {
    "id": "ItE47iQ7WFd4"
   },
   "outputs": [],
   "source": [
    "df_supermarket_sales = df_supermarket_sales.drop(['gm_pct', 'gross_income'], axis=1)"
   ]
  },
  {
   "cell_type": "code",
   "execution_count": 169,
   "metadata": {
    "colab": {
     "base_uri": "https://localhost:8080/",
     "height": 313
    },
    "id": "1NEHnXbeW2N1",
    "outputId": "b2e05f23-c61a-4c62-8a9e-e5a663c8fdd6"
   },
   "outputs": [
    {
     "data": {
      "text/html": [
       "<div>\n",
       "<style scoped>\n",
       "    .dataframe tbody tr th:only-of-type {\n",
       "        vertical-align: middle;\n",
       "    }\n",
       "\n",
       "    .dataframe tbody tr th {\n",
       "        vertical-align: top;\n",
       "    }\n",
       "\n",
       "    .dataframe thead th {\n",
       "        text-align: right;\n",
       "    }\n",
       "</style>\n",
       "<table border=\"1\" class=\"dataframe\">\n",
       "  <thead>\n",
       "    <tr style=\"text-align: right;\">\n",
       "      <th></th>\n",
       "      <th>invoice_id</th>\n",
       "      <th>branch</th>\n",
       "      <th>city</th>\n",
       "      <th>customer_type</th>\n",
       "      <th>gender_customer</th>\n",
       "      <th>product_line</th>\n",
       "      <th>unit_cost</th>\n",
       "      <th>quantity</th>\n",
       "      <th>cogs</th>\n",
       "      <th>5%_of_gross_income</th>\n",
       "      <th>Total</th>\n",
       "      <th>date</th>\n",
       "      <th>time</th>\n",
       "      <th>payment_method</th>\n",
       "      <th>rating</th>\n",
       "    </tr>\n",
       "  </thead>\n",
       "  <tbody>\n",
       "    <tr>\n",
       "      <th>0</th>\n",
       "      <td>750-67-8428</td>\n",
       "      <td>A</td>\n",
       "      <td>Yangon</td>\n",
       "      <td>Member</td>\n",
       "      <td>Female</td>\n",
       "      <td>Health and beauty</td>\n",
       "      <td>74.69</td>\n",
       "      <td>7</td>\n",
       "      <td>522.83</td>\n",
       "      <td>26.1415</td>\n",
       "      <td>548.9715</td>\n",
       "      <td>01/05/19</td>\n",
       "      <td>13:08</td>\n",
       "      <td>Ewallet</td>\n",
       "      <td>9.1</td>\n",
       "    </tr>\n",
       "    <tr>\n",
       "      <th>1</th>\n",
       "      <td>226-31-3081</td>\n",
       "      <td>C</td>\n",
       "      <td>Naypyitaw</td>\n",
       "      <td>Normal</td>\n",
       "      <td>Female</td>\n",
       "      <td>Electronic accessories</td>\n",
       "      <td>15.28</td>\n",
       "      <td>5</td>\n",
       "      <td>76.40</td>\n",
       "      <td>3.8200</td>\n",
       "      <td>80.2200</td>\n",
       "      <td>03/08/19</td>\n",
       "      <td>10:29</td>\n",
       "      <td>Cash</td>\n",
       "      <td>9.6</td>\n",
       "    </tr>\n",
       "    <tr>\n",
       "      <th>2</th>\n",
       "      <td>631-41-3108</td>\n",
       "      <td>A</td>\n",
       "      <td>Yangon</td>\n",
       "      <td>Normal</td>\n",
       "      <td>Male</td>\n",
       "      <td>Home and lifestyle</td>\n",
       "      <td>46.33</td>\n",
       "      <td>7</td>\n",
       "      <td>324.31</td>\n",
       "      <td>16.2155</td>\n",
       "      <td>340.5255</td>\n",
       "      <td>03/03/19</td>\n",
       "      <td>13:23</td>\n",
       "      <td>Credit card</td>\n",
       "      <td>7.4</td>\n",
       "    </tr>\n",
       "    <tr>\n",
       "      <th>3</th>\n",
       "      <td>123-19-1176</td>\n",
       "      <td>A</td>\n",
       "      <td>Yangon</td>\n",
       "      <td>Member</td>\n",
       "      <td>Male</td>\n",
       "      <td>Health and beauty</td>\n",
       "      <td>58.22</td>\n",
       "      <td>8</td>\n",
       "      <td>465.76</td>\n",
       "      <td>23.2880</td>\n",
       "      <td>489.0480</td>\n",
       "      <td>1/27/2019</td>\n",
       "      <td>20:33</td>\n",
       "      <td>Ewallet</td>\n",
       "      <td>8.4</td>\n",
       "    </tr>\n",
       "    <tr>\n",
       "      <th>4</th>\n",
       "      <td>373-73-7910</td>\n",
       "      <td>A</td>\n",
       "      <td>Yangon</td>\n",
       "      <td>Normal</td>\n",
       "      <td>Male</td>\n",
       "      <td>Sports and travel</td>\n",
       "      <td>86.31</td>\n",
       "      <td>7</td>\n",
       "      <td>604.17</td>\n",
       "      <td>30.2085</td>\n",
       "      <td>634.3785</td>\n",
       "      <td>02/08/19</td>\n",
       "      <td>10:37</td>\n",
       "      <td>Ewallet</td>\n",
       "      <td>5.3</td>\n",
       "    </tr>\n",
       "  </tbody>\n",
       "</table>\n",
       "</div>"
      ],
      "text/plain": [
       "    invoice_id branch       city customer_type gender_customer  \\\n",
       "0  750-67-8428      A     Yangon        Member          Female   \n",
       "1  226-31-3081      C  Naypyitaw        Normal          Female   \n",
       "2  631-41-3108      A     Yangon        Normal            Male   \n",
       "3  123-19-1176      A     Yangon        Member            Male   \n",
       "4  373-73-7910      A     Yangon        Normal            Male   \n",
       "\n",
       "             product_line  unit_cost  quantity    cogs  5%_of_gross_income  \\\n",
       "0       Health and beauty      74.69         7  522.83             26.1415   \n",
       "1  Electronic accessories      15.28         5   76.40              3.8200   \n",
       "2      Home and lifestyle      46.33         7  324.31             16.2155   \n",
       "3       Health and beauty      58.22         8  465.76             23.2880   \n",
       "4       Sports and travel      86.31         7  604.17             30.2085   \n",
       "\n",
       "      Total       date   time payment_method  rating  \n",
       "0  548.9715   01/05/19  13:08        Ewallet     9.1  \n",
       "1   80.2200   03/08/19  10:29           Cash     9.6  \n",
       "2  340.5255   03/03/19  13:23    Credit card     7.4  \n",
       "3  489.0480  1/27/2019  20:33        Ewallet     8.4  \n",
       "4  634.3785   02/08/19  10:37        Ewallet     5.3  "
      ]
     },
     "execution_count": 169,
     "metadata": {},
     "output_type": "execute_result"
    }
   ],
   "source": [
    "df_supermarket_sales.head()"
   ]
  },
  {
   "cell_type": "code",
   "execution_count": 170,
   "metadata": {
    "id": "sBwpTAcFYPy6"
   },
   "outputs": [],
   "source": [
    "df_supermarket_sales['date'] = pd.to_datetime(df_supermarket_sales['date'])"
   ]
  },
  {
   "cell_type": "markdown",
   "metadata": {
    "id": "ZHexVZJvZbqR"
   },
   "source": [
    "# 1. ¿Cuál es la distribución de ventas por sucursal y ciudad?\n",
    "\n"
   ]
  },
  {
   "cell_type": "markdown",
   "metadata": {},
   "source": [
    "Se puede analizar las ventas totales y el número de transacciones realizadas en cada sucursal y ciudad. Esto puede ayudarte a identificar las ubicaciones más rentables y las tendencias de compra en diferentes áreas."
   ]
  },
  {
   "cell_type": "code",
   "execution_count": 171,
   "metadata": {
    "colab": {
     "base_uri": "https://localhost:8080/",
     "height": 206
    },
    "id": "s5j5LEajRm1G",
    "outputId": "542d7a24-732d-4d06-d950-bd84a7ff78bf"
   },
   "outputs": [
    {
     "data": {
      "text/html": [
       "<div>\n",
       "<style scoped>\n",
       "    .dataframe tbody tr th:only-of-type {\n",
       "        vertical-align: middle;\n",
       "    }\n",
       "\n",
       "    .dataframe tbody tr th {\n",
       "        vertical-align: top;\n",
       "    }\n",
       "\n",
       "    .dataframe thead th {\n",
       "        text-align: right;\n",
       "    }\n",
       "</style>\n",
       "<table border=\"1\" class=\"dataframe\">\n",
       "  <thead>\n",
       "    <tr style=\"text-align: right;\">\n",
       "      <th></th>\n",
       "      <th>branch</th>\n",
       "      <th>city</th>\n",
       "      <th>Total</th>\n",
       "    </tr>\n",
       "  </thead>\n",
       "  <tbody>\n",
       "    <tr>\n",
       "      <th>0</th>\n",
       "      <td>A</td>\n",
       "      <td>Yangon</td>\n",
       "      <td>548.9715</td>\n",
       "    </tr>\n",
       "    <tr>\n",
       "      <th>1</th>\n",
       "      <td>C</td>\n",
       "      <td>Naypyitaw</td>\n",
       "      <td>80.2200</td>\n",
       "    </tr>\n",
       "    <tr>\n",
       "      <th>2</th>\n",
       "      <td>A</td>\n",
       "      <td>Yangon</td>\n",
       "      <td>340.5255</td>\n",
       "    </tr>\n",
       "    <tr>\n",
       "      <th>3</th>\n",
       "      <td>A</td>\n",
       "      <td>Yangon</td>\n",
       "      <td>489.0480</td>\n",
       "    </tr>\n",
       "    <tr>\n",
       "      <th>4</th>\n",
       "      <td>A</td>\n",
       "      <td>Yangon</td>\n",
       "      <td>634.3785</td>\n",
       "    </tr>\n",
       "  </tbody>\n",
       "</table>\n",
       "</div>"
      ],
      "text/plain": [
       "  branch       city     Total\n",
       "0      A     Yangon  548.9715\n",
       "1      C  Naypyitaw   80.2200\n",
       "2      A     Yangon  340.5255\n",
       "3      A     Yangon  489.0480\n",
       "4      A     Yangon  634.3785"
      ]
     },
     "execution_count": 171,
     "metadata": {},
     "output_type": "execute_result"
    }
   ],
   "source": [
    "df_supermarket_sales[['branch', 'city', 'Total']].head()"
   ]
  },
  {
   "cell_type": "code",
   "execution_count": 172,
   "metadata": {},
   "outputs": [],
   "source": [
    "df_branch_city = pd.DataFrame(df_supermarket_sales.groupby(['branch', 'city'])['Total'].sum().reindex()).reset_index()"
   ]
  },
  {
   "cell_type": "code",
   "execution_count": 173,
   "metadata": {},
   "outputs": [
    {
     "data": {
      "text/html": [
       "<div>\n",
       "<style scoped>\n",
       "    .dataframe tbody tr th:only-of-type {\n",
       "        vertical-align: middle;\n",
       "    }\n",
       "\n",
       "    .dataframe tbody tr th {\n",
       "        vertical-align: top;\n",
       "    }\n",
       "\n",
       "    .dataframe thead th {\n",
       "        text-align: right;\n",
       "    }\n",
       "</style>\n",
       "<table border=\"1\" class=\"dataframe\">\n",
       "  <thead>\n",
       "    <tr style=\"text-align: right;\">\n",
       "      <th></th>\n",
       "      <th>branch</th>\n",
       "      <th>city</th>\n",
       "      <th>Total</th>\n",
       "    </tr>\n",
       "  </thead>\n",
       "  <tbody>\n",
       "    <tr>\n",
       "      <th>0</th>\n",
       "      <td>A</td>\n",
       "      <td>Yangon</td>\n",
       "      <td>106200.3705</td>\n",
       "    </tr>\n",
       "    <tr>\n",
       "      <th>1</th>\n",
       "      <td>B</td>\n",
       "      <td>Mandalay</td>\n",
       "      <td>106197.6720</td>\n",
       "    </tr>\n",
       "    <tr>\n",
       "      <th>2</th>\n",
       "      <td>C</td>\n",
       "      <td>Naypyitaw</td>\n",
       "      <td>110568.7065</td>\n",
       "    </tr>\n",
       "  </tbody>\n",
       "</table>\n",
       "</div>"
      ],
      "text/plain": [
       "  branch       city        Total\n",
       "0      A     Yangon  106200.3705\n",
       "1      B   Mandalay  106197.6720\n",
       "2      C  Naypyitaw  110568.7065"
      ]
     },
     "execution_count": 173,
     "metadata": {},
     "output_type": "execute_result"
    }
   ],
   "source": [
    "df_branch_city"
   ]
  },
  {
   "cell_type": "code",
   "execution_count": 174,
   "metadata": {
    "colab": {
     "base_uri": "https://localhost:8080/",
     "height": 607
    },
    "id": "7iknAXD3MAl2",
    "outputId": "4b22883f-88e8-4312-812c-a23ee4075c85"
   },
   "outputs": [
    {
     "data": {
      "image/png": "[encoded data removed]",
      "text/plain": [
       "<Figure size 723.75x400 with 1 Axes>"
      ]
     },
     "metadata": {},
     "output_type": "display_data"
    }
   ],
   "source": [
    "sns.catplot(x='branch', y='Total', hue='city', kind='bar', data=df_branch_city, height=4, aspect=1.5)\n",
    "\n",
    "plt.title('Distribución de ventas por sucursal y ciudad')\n",
    "plt.xlabel('Sucursal')\n",
    "plt.ylabel('Total de ventas')\n",
    "\n",
    "plt.show()"
   ]
  },
  {
   "cell_type": "code",
   "execution_count": 175,
   "metadata": {},
   "outputs": [],
   "source": [
    "total_sales_city = df_branch_city.groupby('city')['Total'].sum()"
   ]
  },
  {
   "cell_type": "markdown",
   "metadata": {
    "id": "2ZCUzpoLQqJP"
   },
   "source": [
    "## Promedio de ventas por cada sucursal"
   ]
  },
  {
   "cell_type": "code",
   "execution_count": 176,
   "metadata": {
    "colab": {
     "base_uri": "https://localhost:8080/",
     "height": 175
    },
    "id": "jZLiq54aPaI-",
    "outputId": "5f277efc-21e7-416b-d56f-385beeb72989"
   },
   "outputs": [
    {
     "data": {
      "text/html": [
       "<div>\n",
       "<style scoped>\n",
       "    .dataframe tbody tr th:only-of-type {\n",
       "        vertical-align: middle;\n",
       "    }\n",
       "\n",
       "    .dataframe tbody tr th {\n",
       "        vertical-align: top;\n",
       "    }\n",
       "\n",
       "    .dataframe thead th {\n",
       "        text-align: right;\n",
       "    }\n",
       "</style>\n",
       "<table border=\"1\" class=\"dataframe\">\n",
       "  <thead>\n",
       "    <tr style=\"text-align: right;\">\n",
       "      <th></th>\n",
       "      <th></th>\n",
       "      <th>Total</th>\n",
       "    </tr>\n",
       "    <tr>\n",
       "      <th>branch</th>\n",
       "      <th>city</th>\n",
       "      <th></th>\n",
       "    </tr>\n",
       "  </thead>\n",
       "  <tbody>\n",
       "    <tr>\n",
       "      <th>A</th>\n",
       "      <th>Yangon</th>\n",
       "      <td>312.354031</td>\n",
       "    </tr>\n",
       "    <tr>\n",
       "      <th>B</th>\n",
       "      <th>Mandalay</th>\n",
       "      <td>319.872506</td>\n",
       "    </tr>\n",
       "    <tr>\n",
       "      <th>C</th>\n",
       "      <th>Naypyitaw</th>\n",
       "      <td>337.099715</td>\n",
       "    </tr>\n",
       "  </tbody>\n",
       "</table>\n",
       "</div>"
      ],
      "text/plain": [
       "                       Total\n",
       "branch city                 \n",
       "A      Yangon     312.354031\n",
       "B      Mandalay   319.872506\n",
       "C      Naypyitaw  337.099715"
      ]
     },
     "execution_count": 176,
     "metadata": {},
     "output_type": "execute_result"
    }
   ],
   "source": [
    "# para detallar mejor las ventas se verifica el promedio de ventas de cada sucursal\n",
    "pd.DataFrame(df_supermarket_sales.groupby(['branch', 'city'])['Total'].mean().reindex())"
   ]
  },
  {
   "cell_type": "markdown",
   "metadata": {
    "id": "ds57qEViQ-PM"
   },
   "source": [
    "# 2. ¿Cuál es el producto más vendido en cada sucursal?"
   ]
  },
  {
   "cell_type": "code",
   "execution_count": 177,
   "metadata": {
    "colab": {
     "base_uri": "https://localhost:8080/",
     "height": 206
    },
    "id": "QCiCVCh0QmlL",
    "outputId": "6192577a-b5ad-46c0-a2d2-b4769e8794c5"
   },
   "outputs": [
    {
     "data": {
      "text/html": [
       "<div>\n",
       "<style scoped>\n",
       "    .dataframe tbody tr th:only-of-type {\n",
       "        vertical-align: middle;\n",
       "    }\n",
       "\n",
       "    .dataframe tbody tr th {\n",
       "        vertical-align: top;\n",
       "    }\n",
       "\n",
       "    .dataframe thead th {\n",
       "        text-align: right;\n",
       "    }\n",
       "</style>\n",
       "<table border=\"1\" class=\"dataframe\">\n",
       "  <thead>\n",
       "    <tr style=\"text-align: right;\">\n",
       "      <th></th>\n",
       "      <th>branch</th>\n",
       "      <th>product_line</th>\n",
       "      <th>Total</th>\n",
       "    </tr>\n",
       "  </thead>\n",
       "  <tbody>\n",
       "    <tr>\n",
       "      <th>0</th>\n",
       "      <td>A</td>\n",
       "      <td>Health and beauty</td>\n",
       "      <td>548.9715</td>\n",
       "    </tr>\n",
       "    <tr>\n",
       "      <th>1</th>\n",
       "      <td>C</td>\n",
       "      <td>Electronic accessories</td>\n",
       "      <td>80.2200</td>\n",
       "    </tr>\n",
       "    <tr>\n",
       "      <th>2</th>\n",
       "      <td>A</td>\n",
       "      <td>Home and lifestyle</td>\n",
       "      <td>340.5255</td>\n",
       "    </tr>\n",
       "    <tr>\n",
       "      <th>3</th>\n",
       "      <td>A</td>\n",
       "      <td>Health and beauty</td>\n",
       "      <td>489.0480</td>\n",
       "    </tr>\n",
       "    <tr>\n",
       "      <th>4</th>\n",
       "      <td>A</td>\n",
       "      <td>Sports and travel</td>\n",
       "      <td>634.3785</td>\n",
       "    </tr>\n",
       "  </tbody>\n",
       "</table>\n",
       "</div>"
      ],
      "text/plain": [
       "  branch            product_line     Total\n",
       "0      A       Health and beauty  548.9715\n",
       "1      C  Electronic accessories   80.2200\n",
       "2      A      Home and lifestyle  340.5255\n",
       "3      A       Health and beauty  489.0480\n",
       "4      A       Sports and travel  634.3785"
      ]
     },
     "execution_count": 177,
     "metadata": {},
     "output_type": "execute_result"
    }
   ],
   "source": [
    "df_supermarket_sales[['branch', 'product_line', 'Total']].head()"
   ]
  },
  {
   "cell_type": "code",
   "execution_count": 178,
   "metadata": {
    "id": "W6bTSfB5R9z8"
   },
   "outputs": [],
   "source": [
    "# agrupagos por sucursal, productos y el total de ventas obtenidas de esos productos para cada sucursal\n",
    "df_branch_product = df_supermarket_sales.groupby(['branch', 'product_line'])['Total'].sum()"
   ]
  },
  {
   "cell_type": "code",
   "execution_count": 179,
   "metadata": {},
   "outputs": [
    {
     "data": {
      "text/plain": [
       "branch  product_line          \n",
       "A       Electronic accessories    18317.1135\n",
       "        Fashion accessories       16332.5085\n",
       "        Food and beverages        17163.1005\n",
       "        Health and beauty         12597.7530\n",
       "        Home and lifestyle        22417.1955\n",
       "        Sports and travel         19372.6995\n",
       "B       Electronic accessories    17051.4435\n",
       "        Fashion accessories       16413.3165\n",
       "        Food and beverages        15214.8885\n",
       "        Health and beauty         19980.6600\n",
       "        Home and lifestyle        17549.1645\n",
       "        Sports and travel         19988.1990\n",
       "C       Electronic accessories    18968.9745\n",
       "        Fashion accessories       21560.0700\n",
       "        Food and beverages        23766.8550\n",
       "        Health and beauty         16615.3260\n",
       "        Home and lifestyle        13895.5530\n",
       "        Sports and travel         15761.9280\n",
       "Name: Total, dtype: float64"
      ]
     },
     "execution_count": 179,
     "metadata": {},
     "output_type": "execute_result"
    }
   ],
   "source": [
    "df_branch_product"
   ]
  },
  {
   "cell_type": "code",
   "execution_count": 180,
   "metadata": {
    "id": "-tpfmjB_S5Lc"
   },
   "outputs": [],
   "source": [
    "# Obtenemos el índice del máximo valor de Total para cada sucursal\n",
    "indices_maximos = df_branch_product.groupby('branch').idxmax()\n",
    "\n",
    "# Creamos un DataFrame con los productos más vendidos por sucursal\n",
    "productos_mas_vendidos = (pd.DataFrame(df_branch_product.loc[indices_maximos]).reindex()).reset_index()"
   ]
  },
  {
   "cell_type": "code",
   "execution_count": 181,
   "metadata": {
    "colab": {
     "base_uri": "https://localhost:8080/",
     "height": 175
    },
    "id": "JDQiFcV1cVmy",
    "outputId": "616ada90-fa4e-4d82-d38f-361671604230"
   },
   "outputs": [
    {
     "data": {
      "text/html": [
       "<div>\n",
       "<style scoped>\n",
       "    .dataframe tbody tr th:only-of-type {\n",
       "        vertical-align: middle;\n",
       "    }\n",
       "\n",
       "    .dataframe tbody tr th {\n",
       "        vertical-align: top;\n",
       "    }\n",
       "\n",
       "    .dataframe thead th {\n",
       "        text-align: right;\n",
       "    }\n",
       "</style>\n",
       "<table border=\"1\" class=\"dataframe\">\n",
       "  <thead>\n",
       "    <tr style=\"text-align: right;\">\n",
       "      <th></th>\n",
       "      <th>branch</th>\n",
       "      <th>product_line</th>\n",
       "      <th>Total</th>\n",
       "    </tr>\n",
       "  </thead>\n",
       "  <tbody>\n",
       "    <tr>\n",
       "      <th>0</th>\n",
       "      <td>A</td>\n",
       "      <td>Home and lifestyle</td>\n",
       "      <td>22417.1955</td>\n",
       "    </tr>\n",
       "    <tr>\n",
       "      <th>1</th>\n",
       "      <td>B</td>\n",
       "      <td>Sports and travel</td>\n",
       "      <td>19988.1990</td>\n",
       "    </tr>\n",
       "    <tr>\n",
       "      <th>2</th>\n",
       "      <td>C</td>\n",
       "      <td>Food and beverages</td>\n",
       "      <td>23766.8550</td>\n",
       "    </tr>\n",
       "  </tbody>\n",
       "</table>\n",
       "</div>"
      ],
      "text/plain": [
       "  branch        product_line       Total\n",
       "0      A  Home and lifestyle  22417.1955\n",
       "1      B   Sports and travel  19988.1990\n",
       "2      C  Food and beverages  23766.8550"
      ]
     },
     "execution_count": 181,
     "metadata": {},
     "output_type": "execute_result"
    }
   ],
   "source": [
    "productos_mas_vendidos"
   ]
  },
  {
   "cell_type": "code",
   "execution_count": 182,
   "metadata": {
    "colab": {
     "base_uri": "https://localhost:8080/",
     "height": 607
    },
    "id": "e7mlTziZTVPe",
    "outputId": "90852d3f-8c85-41d0-8130-072e4b3956b2"
   },
   "outputs": [
    {
     "data": {
      "image/png": "[encoded data removed]",
      "text/plain": [
       "<Figure size 791.375x400 with 1 Axes>"
      ]
     },
     "metadata": {},
     "output_type": "display_data"
    }
   ],
   "source": [
    "sns.catplot(data=productos_mas_vendidos, x='branch', y='Total', hue='product_line', kind='bar', height=4, aspect=1.5)\n",
    "plt.title('Distribución de ventas por sucursal y ciudad')\n",
    "plt.xlabel('Sucursal')\n",
    "plt.ylabel('Total de ventas')\n",
    "\n",
    "plt.show()"
   ]
  },
  {
   "cell_type": "markdown",
   "metadata": {
    "id": "QgNvomnzdIRZ"
   },
   "source": [
    "# 3. ¿Hay una relación entre el género del cliente y el tipo de producto comprado?"
   ]
  },
  {
   "cell_type": "code",
   "execution_count": 183,
   "metadata": {
    "colab": {
     "base_uri": "https://localhost:8080/",
     "height": 206
    },
    "id": "O0JL77flZDTr",
    "outputId": "dab09f39-f3cd-4a7c-ee0f-1ae86b6bd26b"
   },
   "outputs": [
    {
     "data": {
      "text/html": [
       "<div>\n",
       "<style scoped>\n",
       "    .dataframe tbody tr th:only-of-type {\n",
       "        vertical-align: middle;\n",
       "    }\n",
       "\n",
       "    .dataframe tbody tr th {\n",
       "        vertical-align: top;\n",
       "    }\n",
       "\n",
       "    .dataframe thead th {\n",
       "        text-align: right;\n",
       "    }\n",
       "</style>\n",
       "<table border=\"1\" class=\"dataframe\">\n",
       "  <thead>\n",
       "    <tr style=\"text-align: right;\">\n",
       "      <th></th>\n",
       "      <th>gender_customer</th>\n",
       "      <th>product_line</th>\n",
       "    </tr>\n",
       "  </thead>\n",
       "  <tbody>\n",
       "    <tr>\n",
       "      <th>0</th>\n",
       "      <td>Female</td>\n",
       "      <td>Health and beauty</td>\n",
       "    </tr>\n",
       "    <tr>\n",
       "      <th>1</th>\n",
       "      <td>Female</td>\n",
       "      <td>Electronic accessories</td>\n",
       "    </tr>\n",
       "    <tr>\n",
       "      <th>2</th>\n",
       "      <td>Male</td>\n",
       "      <td>Home and lifestyle</td>\n",
       "    </tr>\n",
       "    <tr>\n",
       "      <th>3</th>\n",
       "      <td>Male</td>\n",
       "      <td>Health and beauty</td>\n",
       "    </tr>\n",
       "    <tr>\n",
       "      <th>4</th>\n",
       "      <td>Male</td>\n",
       "      <td>Sports and travel</td>\n",
       "    </tr>\n",
       "  </tbody>\n",
       "</table>\n",
       "</div>"
      ],
      "text/plain": [
       "  gender_customer            product_line\n",
       "0          Female       Health and beauty\n",
       "1          Female  Electronic accessories\n",
       "2            Male      Home and lifestyle\n",
       "3            Male       Health and beauty\n",
       "4            Male       Sports and travel"
      ]
     },
     "execution_count": 183,
     "metadata": {},
     "output_type": "execute_result"
    }
   ],
   "source": [
    "df_supermarket_sales[['gender_customer',  'product_line']].head()"
   ]
  },
  {
   "cell_type": "code",
   "execution_count": 184,
   "metadata": {
    "colab": {
     "base_uri": "https://localhost:8080/"
    },
    "id": "gG3DgUByyAD5",
    "outputId": "6d6a063f-44b5-40e1-d71b-4dcb6f1129ed"
   },
   "outputs": [
    {
     "name": "stdout",
     "output_type": "stream",
     "text": [
      "Estadística de chi-cuadrado: 5.7444558595826445\n",
      "Valor p: 0.33188385805539106\n",
      "Grados de libertad: 5\n"
     ]
    }
   ],
   "source": [
    "from scipy.stats import chi2_contingency\n",
    "\n",
    "# Crear una tabla de contingencia para las dos variables\n",
    "tabla_contingencia = pd.crosstab(df_supermarket_sales['gender_customer'], df_supermarket_sales['product_line'])\n",
    "\n",
    "# Realizar la prueba de chi-cuadrado\n",
    "chi2, p_valor, grados_libertad, _ = chi2_contingency(tabla_contingencia)\n",
    "\n",
    "# Imprimir los resultados\n",
    "print(\"Estadística de chi-cuadrado:\", chi2)\n",
    "print(\"Valor p:\", p_valor)\n",
    "print(\"Grados de libertad:\", grados_libertad)"
   ]
  },
  {
   "cell_type": "markdown",
   "metadata": {
    "id": "Ocr3UR2yFP1O"
   },
   "source": [
    "Dado que el valor p (0.3319) es mayor que un nivel de significancia comúnmente elegido como 0.05, no hay suficiente evidencia para rechazar la hipótesis nula de que no hay relación entre el género del cliente y el tipo de producto comprado. Esto significa que no hay una asociación significativa entre el género del cliente y el tipo de producto comprado en la población representada por los datos.\n",
    "\n",
    "En resumen, según los resultados de la prueba de chi-cuadrado, no se puede concluir que haya una relación significativa entre el género del cliente y el tipo de producto comprado en el conjunto de datos analizado."
   ]
  },
  {
   "cell_type": "code",
   "execution_count": 274,
   "metadata": {},
   "outputs": [
    {
     "data": {
      "text/html": [
       "<div>\n",
       "<style scoped>\n",
       "    .dataframe tbody tr th:only-of-type {\n",
       "        vertical-align: middle;\n",
       "    }\n",
       "\n",
       "    .dataframe tbody tr th {\n",
       "        vertical-align: top;\n",
       "    }\n",
       "\n",
       "    .dataframe thead th {\n",
       "        text-align: right;\n",
       "    }\n",
       "</style>\n",
       "<table border=\"1\" class=\"dataframe\">\n",
       "  <thead>\n",
       "    <tr style=\"text-align: right;\">\n",
       "      <th>product_line</th>\n",
       "      <th>Electronic accessories</th>\n",
       "      <th>Fashion accessories</th>\n",
       "      <th>Food and beverages</th>\n",
       "      <th>Health and beauty</th>\n",
       "      <th>Home and lifestyle</th>\n",
       "      <th>Sports and travel</th>\n",
       "    </tr>\n",
       "    <tr>\n",
       "      <th>gender_customer</th>\n",
       "      <th></th>\n",
       "      <th></th>\n",
       "      <th></th>\n",
       "      <th></th>\n",
       "      <th></th>\n",
       "      <th></th>\n",
       "    </tr>\n",
       "  </thead>\n",
       "  <tbody>\n",
       "    <tr>\n",
       "      <th>Female</th>\n",
       "      <td>84</td>\n",
       "      <td>96</td>\n",
       "      <td>90</td>\n",
       "      <td>64</td>\n",
       "      <td>79</td>\n",
       "      <td>88</td>\n",
       "    </tr>\n",
       "    <tr>\n",
       "      <th>Male</th>\n",
       "      <td>86</td>\n",
       "      <td>82</td>\n",
       "      <td>84</td>\n",
       "      <td>88</td>\n",
       "      <td>81</td>\n",
       "      <td>78</td>\n",
       "    </tr>\n",
       "  </tbody>\n",
       "</table>\n",
       "</div>"
      ],
      "text/plain": [
       "product_line     Electronic accessories  Fashion accessories  \\\n",
       "gender_customer                                                \n",
       "Female                               84                   96   \n",
       "Male                                 86                   82   \n",
       "\n",
       "product_line     Food and beverages  Health and beauty  Home and lifestyle  \\\n",
       "gender_customer                                                              \n",
       "Female                           90                 64                  79   \n",
       "Male                             84                 88                  81   \n",
       "\n",
       "product_line     Sports and travel  \n",
       "gender_customer                     \n",
       "Female                          88  \n",
       "Male                            78  "
      ]
     },
     "execution_count": 274,
     "metadata": {},
     "output_type": "execute_result"
    }
   ],
   "source": [
    "# Se calcula la frecuencia de cada combinación de género del cliente y tipo de producto\n",
    "frecuencia_combinacion = df_supermarket_sales.groupby(['gender_customer', 'product_line']).size().unstack()\n",
    "frecuencia_combinacion"
   ]
  },
  {
   "cell_type": "code",
   "execution_count": 275,
   "metadata": {
    "colab": {
     "base_uri": "https://localhost:8080/",
     "height": 472
    },
    "id": "Izy8vbDlfMyE",
    "outputId": "9a434afc-5a0d-4ed1-a754-cbbbf45f0195"
   },
   "outputs": [
    {
     "data": {
      "image/png": "[encoded data removed]",
      "text/plain": [
       "<Figure size 640x480 with 1 Axes>"
      ]
     },
     "metadata": {},
     "output_type": "display_data"
    }
   ],
   "source": [
    "# luego se grafica para visualizar la distribución de compras por género y tipo de producto\n",
    "frecuencia_combinacion.plot(kind='bar')\n",
    "plt.title('Distribución de compras por género y tipo de producto')\n",
    "plt.xlabel('Género del Cliente')\n",
    "plt.ylabel('Frecuencia de Compras')\n",
    "plt.legend(title='Ciudad', bbox_to_anchor=(1.01, 1), loc='upper left')\n",
    "plt.xticks(rotation=0)\n",
    "plt.show()\n"
   ]
  },
  {
   "cell_type": "markdown",
   "metadata": {
    "id": "4zwitFahFclW"
   },
   "source": [
    "# 4. ¿Cuál es el método de pago más utilizado y cuál genera más ingresos?"
   ]
  },
  {
   "cell_type": "code",
   "execution_count": 186,
   "metadata": {
    "colab": {
     "base_uri": "https://localhost:8080/",
     "height": 175
    },
    "id": "slQkooXbF2Hg",
    "outputId": "52d5237b-a4d1-4f80-9392-1e2594465cef"
   },
   "outputs": [
    {
     "data": {
      "text/html": [
       "<div>\n",
       "<style scoped>\n",
       "    .dataframe tbody tr th:only-of-type {\n",
       "        vertical-align: middle;\n",
       "    }\n",
       "\n",
       "    .dataframe tbody tr th {\n",
       "        vertical-align: top;\n",
       "    }\n",
       "\n",
       "    .dataframe thead th {\n",
       "        text-align: right;\n",
       "    }\n",
       "</style>\n",
       "<table border=\"1\" class=\"dataframe\">\n",
       "  <thead>\n",
       "    <tr style=\"text-align: right;\">\n",
       "      <th></th>\n",
       "      <th>payment_method</th>\n",
       "      <th>5%_of_gross_income</th>\n",
       "    </tr>\n",
       "  </thead>\n",
       "  <tbody>\n",
       "    <tr>\n",
       "      <th>0</th>\n",
       "      <td>Cash</td>\n",
       "      <td>5343.170</td>\n",
       "    </tr>\n",
       "    <tr>\n",
       "      <th>1</th>\n",
       "      <td>Credit card</td>\n",
       "      <td>4798.432</td>\n",
       "    </tr>\n",
       "    <tr>\n",
       "      <th>2</th>\n",
       "      <td>Ewallet</td>\n",
       "      <td>5237.767</td>\n",
       "    </tr>\n",
       "  </tbody>\n",
       "</table>\n",
       "</div>"
      ],
      "text/plain": [
       "  payment_method  5%_of_gross_income\n",
       "0           Cash            5343.170\n",
       "1    Credit card            4798.432\n",
       "2        Ewallet            5237.767"
      ]
     },
     "execution_count": 186,
     "metadata": {},
     "output_type": "execute_result"
    }
   ],
   "source": [
    "df_payment_method = pd.DataFrame(df_supermarket_sales.groupby('payment_method')['5%_of_gross_income'].sum()).reset_index()\n",
    "df_payment_method"
   ]
  },
  {
   "cell_type": "code",
   "execution_count": 187,
   "metadata": {
    "colab": {
     "base_uri": "https://localhost:8080/",
     "height": 597
    },
    "id": "Q8sqOthMRAVj",
    "outputId": "dcc94c76-f087-49c0-920e-68e75967ff70"
   },
   "outputs": [
    {
     "data": {
      "text/plain": [
       "Text(0, 0.5, 'Total de ingresos')"
      ]
     },
     "execution_count": 187,
     "metadata": {},
     "output_type": "execute_result"
    },
    {
     "data": {
      "image/png": "[encoded data removed]",
      "text/plain": [
       "<Figure size 640x480 with 1 Axes>"
      ]
     },
     "metadata": {},
     "output_type": "display_data"
    }
   ],
   "source": [
    "sns.barplot(data=df_payment_method, x='payment_method', y='5%_of_gross_income', palette='muted')\n",
    "\n",
    "plt.title('Metodos de pago más utilizados')\n",
    "plt.xlabel('Métodos de pagos')\n",
    "plt.ylabel('Total de ingresos')"
   ]
  },
  {
   "cell_type": "markdown",
   "metadata": {
    "id": "d6WR1FHVVMh3"
   },
   "source": [
    "# 5. ¿Cuál es la relación entre la calificación del cliente y el monto gastado?"
   ]
  },
  {
   "cell_type": "code",
   "execution_count": 251,
   "metadata": {
    "colab": {
     "base_uri": "https://localhost:8080/",
     "height": 206
    },
    "id": "n3LhN66vVW9w",
    "outputId": "cef616e1-2bb8-4c9b-c127-8d8a3a538bf3"
   },
   "outputs": [
    {
     "data": {
      "text/html": [
       "<div>\n",
       "<style scoped>\n",
       "    .dataframe tbody tr th:only-of-type {\n",
       "        vertical-align: middle;\n",
       "    }\n",
       "\n",
       "    .dataframe tbody tr th {\n",
       "        vertical-align: top;\n",
       "    }\n",
       "\n",
       "    .dataframe thead th {\n",
       "        text-align: right;\n",
       "    }\n",
       "</style>\n",
       "<table border=\"1\" class=\"dataframe\">\n",
       "  <thead>\n",
       "    <tr style=\"text-align: right;\">\n",
       "      <th></th>\n",
       "      <th>rating</th>\n",
       "      <th>Total</th>\n",
       "    </tr>\n",
       "  </thead>\n",
       "  <tbody>\n",
       "    <tr>\n",
       "      <th>0</th>\n",
       "      <td>9.1</td>\n",
       "      <td>548.9715</td>\n",
       "    </tr>\n",
       "    <tr>\n",
       "      <th>1</th>\n",
       "      <td>9.6</td>\n",
       "      <td>80.2200</td>\n",
       "    </tr>\n",
       "    <tr>\n",
       "      <th>2</th>\n",
       "      <td>7.4</td>\n",
       "      <td>340.5255</td>\n",
       "    </tr>\n",
       "    <tr>\n",
       "      <th>3</th>\n",
       "      <td>8.4</td>\n",
       "      <td>489.0480</td>\n",
       "    </tr>\n",
       "    <tr>\n",
       "      <th>4</th>\n",
       "      <td>5.3</td>\n",
       "      <td>634.3785</td>\n",
       "    </tr>\n",
       "  </tbody>\n",
       "</table>\n",
       "</div>"
      ],
      "text/plain": [
       "   rating     Total\n",
       "0     9.1  548.9715\n",
       "1     9.6   80.2200\n",
       "2     7.4  340.5255\n",
       "3     8.4  489.0480\n",
       "4     5.3  634.3785"
      ]
     },
     "execution_count": 251,
     "metadata": {},
     "output_type": "execute_result"
    }
   ],
   "source": [
    "df_supermarket_sales[['rating', 'Total']].head()"
   ]
  },
  {
   "cell_type": "code",
   "execution_count": 189,
   "metadata": {
    "colab": {
     "base_uri": "https://localhost:8080/",
     "height": 449
    },
    "id": "6GoTEI4Dc0Po",
    "outputId": "9c7b9a7a-b8ec-4cba-e87e-a89669c6d81f"
   },
   "outputs": [
    {
     "data": {
      "image/png": "[encoded data removed]",
      "text/plain": [
       "<Figure size 640x480 with 1 Axes>"
      ]
     },
     "metadata": {},
     "output_type": "display_data"
    }
   ],
   "source": [
    "sns.regplot(data=df_supermarket_sales, x='rating', y='Total');"
   ]
  },
  {
   "cell_type": "code",
   "execution_count": 190,
   "metadata": {
    "colab": {
     "base_uri": "https://localhost:8080/",
     "height": 452
    },
    "id": "o94h6Oh1hVT-",
    "outputId": "041e0c9d-898b-4fc8-a018-ce76bd6de154"
   },
   "outputs": [
    {
     "data": {
      "text/plain": [
       "<AxesSubplot:>"
      ]
     },
     "execution_count": 190,
     "metadata": {},
     "output_type": "execute_result"
    },
    {
     "data": {
      "image/png": "[encoded data removed]",
      "text/plain": [
       "<Figure size 640x480 with 2 Axes>"
      ]
     },
     "metadata": {},
     "output_type": "display_data"
    }
   ],
   "source": [
    "m = df_supermarket_sales[['rating', 'Total']].corr()\n",
    "sns.heatmap(m, annot=True, cmap='Reds')"
   ]
  },
  {
   "cell_type": "code",
   "execution_count": 191,
   "metadata": {
    "id": "Mcg7rvum0uMu"
   },
   "outputs": [],
   "source": [
    "# Calcular el monto total gastado por calificación del cliente\n",
    "rating_total_spent = df_supermarket_sales.groupby('rating')['Total'].sum().reset_index()"
   ]
  },
  {
   "cell_type": "code",
   "execution_count": 237,
   "metadata": {
    "colab": {
     "base_uri": "https://localhost:8080/",
     "height": 141
    },
    "id": "diU7AnMEOrjj",
    "outputId": "45bf49cf-d901-4f3c-b0ad-409a6c3798a7"
   },
   "outputs": [
    {
     "data": {
      "text/html": [
       "<div>\n",
       "<style scoped>\n",
       "    .dataframe tbody tr th:only-of-type {\n",
       "        vertical-align: middle;\n",
       "    }\n",
       "\n",
       "    .dataframe tbody tr th {\n",
       "        vertical-align: top;\n",
       "    }\n",
       "\n",
       "    .dataframe thead th {\n",
       "        text-align: right;\n",
       "    }\n",
       "</style>\n",
       "<table border=\"1\" class=\"dataframe\">\n",
       "  <thead>\n",
       "    <tr style=\"text-align: right;\">\n",
       "      <th></th>\n",
       "      <th>rating</th>\n",
       "      <th>Total</th>\n",
       "    </tr>\n",
       "  </thead>\n",
       "  <tbody>\n",
       "    <tr>\n",
       "      <th>0</th>\n",
       "      <td>4.0</td>\n",
       "      <td>3986.5140</td>\n",
       "    </tr>\n",
       "    <tr>\n",
       "      <th>1</th>\n",
       "      <td>4.1</td>\n",
       "      <td>3589.1835</td>\n",
       "    </tr>\n",
       "    <tr>\n",
       "      <th>2</th>\n",
       "      <td>4.2</td>\n",
       "      <td>9275.9100</td>\n",
       "    </tr>\n",
       "    <tr>\n",
       "      <th>3</th>\n",
       "      <td>4.3</td>\n",
       "      <td>5958.1095</td>\n",
       "    </tr>\n",
       "    <tr>\n",
       "      <th>4</th>\n",
       "      <td>4.4</td>\n",
       "      <td>6716.5665</td>\n",
       "    </tr>\n",
       "    <tr>\n",
       "      <th>...</th>\n",
       "      <td>...</td>\n",
       "      <td>...</td>\n",
       "    </tr>\n",
       "    <tr>\n",
       "      <th>56</th>\n",
       "      <td>9.6</td>\n",
       "      <td>5592.2580</td>\n",
       "    </tr>\n",
       "    <tr>\n",
       "      <th>57</th>\n",
       "      <td>9.7</td>\n",
       "      <td>3332.3955</td>\n",
       "    </tr>\n",
       "    <tr>\n",
       "      <th>58</th>\n",
       "      <td>9.8</td>\n",
       "      <td>4976.9265</td>\n",
       "    </tr>\n",
       "    <tr>\n",
       "      <th>59</th>\n",
       "      <td>9.9</td>\n",
       "      <td>5822.9325</td>\n",
       "    </tr>\n",
       "    <tr>\n",
       "      <th>60</th>\n",
       "      <td>10.0</td>\n",
       "      <td>2080.3545</td>\n",
       "    </tr>\n",
       "  </tbody>\n",
       "</table>\n",
       "<p>61 rows × 2 columns</p>\n",
       "</div>"
      ],
      "text/plain": [
       "    rating      Total\n",
       "0      4.0  3986.5140\n",
       "1      4.1  3589.1835\n",
       "2      4.2  9275.9100\n",
       "3      4.3  5958.1095\n",
       "4      4.4  6716.5665\n",
       "..     ...        ...\n",
       "56     9.6  5592.2580\n",
       "57     9.7  3332.3955\n",
       "58     9.8  4976.9265\n",
       "59     9.9  5822.9325\n",
       "60    10.0  2080.3545\n",
       "\n",
       "[61 rows x 2 columns]"
      ]
     },
     "execution_count": 237,
     "metadata": {},
     "output_type": "execute_result"
    }
   ],
   "source": [
    "rating_total_spent"
   ]
  },
  {
   "cell_type": "code",
   "execution_count": 206,
   "metadata": {
    "colab": {
     "base_uri": "https://localhost:8080/",
     "height": 386
    },
    "id": "LaCgnKwezCje",
    "outputId": "cbb0624f-61e2-4ecb-f83d-0e8011e060d3"
   },
   "outputs": [
    {
     "data": {
      "image/png": "[encoded data removed]",
      "text/plain": [
       "<Figure size 2000x600 with 1 Axes>"
      ]
     },
     "metadata": {},
     "output_type": "display_data"
    }
   ],
   "source": [
    "# Crear el gráfico de barras\n",
    "plt.figure(figsize=(20, 6))\n",
    "sns.barplot(data=rating_total_spent, x='rating', y='Total', color= 'orange')\n",
    "plt.title('Relación entre la calificación del cliente y el monto gastado')\n",
    "plt.xlabel('Calificación del cliente')\n",
    "plt.ylabel('Monto total gastado')\n",
    "plt.tight_layout()\n",
    "plt.show()\n"
   ]
  },
  {
   "cell_type": "code",
   "execution_count": 194,
   "metadata": {
    "colab": {
     "base_uri": "https://localhost:8080/",
     "height": 300
    },
    "id": "GAOrs7pU3H_O",
    "outputId": "5f772b53-d9c7-4a25-a3e4-c87be3ec5bc7"
   },
   "outputs": [
    {
     "data": {
      "text/html": [
       "<div>\n",
       "<style scoped>\n",
       "    .dataframe tbody tr th:only-of-type {\n",
       "        vertical-align: middle;\n",
       "    }\n",
       "\n",
       "    .dataframe tbody tr th {\n",
       "        vertical-align: top;\n",
       "    }\n",
       "\n",
       "    .dataframe thead th {\n",
       "        text-align: right;\n",
       "    }\n",
       "</style>\n",
       "<table border=\"1\" class=\"dataframe\">\n",
       "  <thead>\n",
       "    <tr style=\"text-align: right;\">\n",
       "      <th></th>\n",
       "      <th>rating</th>\n",
       "      <th>Total</th>\n",
       "    </tr>\n",
       "  </thead>\n",
       "  <tbody>\n",
       "    <tr>\n",
       "      <th>count</th>\n",
       "      <td>61.000000</td>\n",
       "      <td>61.000000</td>\n",
       "    </tr>\n",
       "    <tr>\n",
       "      <th>mean</th>\n",
       "      <td>7.000000</td>\n",
       "      <td>5294.536869</td>\n",
       "    </tr>\n",
       "    <tr>\n",
       "      <th>std</th>\n",
       "      <td>1.775293</td>\n",
       "      <td>1612.253359</td>\n",
       "    </tr>\n",
       "    <tr>\n",
       "      <th>min</th>\n",
       "      <td>4.000000</td>\n",
       "      <td>2080.354500</td>\n",
       "    </tr>\n",
       "    <tr>\n",
       "      <th>25%</th>\n",
       "      <td>5.500000</td>\n",
       "      <td>4066.188000</td>\n",
       "    </tr>\n",
       "    <tr>\n",
       "      <th>50%</th>\n",
       "      <td>7.000000</td>\n",
       "      <td>5370.004500</td>\n",
       "    </tr>\n",
       "    <tr>\n",
       "      <th>75%</th>\n",
       "      <td>8.500000</td>\n",
       "      <td>6083.647500</td>\n",
       "    </tr>\n",
       "    <tr>\n",
       "      <th>max</th>\n",
       "      <td>10.000000</td>\n",
       "      <td>9275.910000</td>\n",
       "    </tr>\n",
       "  </tbody>\n",
       "</table>\n",
       "</div>"
      ],
      "text/plain": [
       "          rating        Total\n",
       "count  61.000000    61.000000\n",
       "mean    7.000000  5294.536869\n",
       "std     1.775293  1612.253359\n",
       "min     4.000000  2080.354500\n",
       "25%     5.500000  4066.188000\n",
       "50%     7.000000  5370.004500\n",
       "75%     8.500000  6083.647500\n",
       "max    10.000000  9275.910000"
      ]
     },
     "execution_count": 194,
     "metadata": {},
     "output_type": "execute_result"
    }
   ],
   "source": [
    "rating_total_spent.describe()"
   ]
  },
  {
   "cell_type": "code",
   "execution_count": 196,
   "metadata": {
    "colab": {
     "base_uri": "https://localhost:8080/",
     "height": 112
    },
    "id": "1Ax_onYX4FPv",
    "outputId": "15750d52-a3aa-4e6d-c8ad-3e663d79b255"
   },
   "outputs": [
    {
     "data": {
      "text/html": [
       "<div>\n",
       "<style scoped>\n",
       "    .dataframe tbody tr th:only-of-type {\n",
       "        vertical-align: middle;\n",
       "    }\n",
       "\n",
       "    .dataframe tbody tr th {\n",
       "        vertical-align: top;\n",
       "    }\n",
       "\n",
       "    .dataframe thead th {\n",
       "        text-align: right;\n",
       "    }\n",
       "</style>\n",
       "<table border=\"1\" class=\"dataframe\">\n",
       "  <thead>\n",
       "    <tr style=\"text-align: right;\">\n",
       "      <th></th>\n",
       "      <th>rating</th>\n",
       "      <th>Total</th>\n",
       "    </tr>\n",
       "  </thead>\n",
       "  <tbody>\n",
       "    <tr>\n",
       "      <th>rating</th>\n",
       "      <td>1.000000</td>\n",
       "      <td>-0.140921</td>\n",
       "    </tr>\n",
       "    <tr>\n",
       "      <th>Total</th>\n",
       "      <td>-0.140921</td>\n",
       "      <td>1.000000</td>\n",
       "    </tr>\n",
       "  </tbody>\n",
       "</table>\n",
       "</div>"
      ],
      "text/plain": [
       "          rating     Total\n",
       "rating  1.000000 -0.140921\n",
       "Total  -0.140921  1.000000"
      ]
     },
     "execution_count": 196,
     "metadata": {},
     "output_type": "execute_result"
    }
   ],
   "source": [
    "rating_total_spent.corr()"
   ]
  },
  {
   "cell_type": "code",
   "execution_count": 197,
   "metadata": {
    "colab": {
     "base_uri": "https://localhost:8080/",
     "height": 449
    },
    "id": "oPu6syt95rEx",
    "outputId": "2c307c99-b791-4ada-9092-acf56095d4a6"
   },
   "outputs": [
    {
     "data": {
      "image/png": "[encoded data removed]",
      "text/plain": [
       "<Figure size 640x480 with 1 Axes>"
      ]
     },
     "metadata": {},
     "output_type": "display_data"
    }
   ],
   "source": [
    "sns.regplot(data=rating_total_spent, x='rating', y='Total');"
   ]
  },
  {
   "cell_type": "markdown",
   "metadata": {
    "id": "Kyoa6elDl7_K"
   },
   "source": [
    "# 6. ¿Cuál es la tendencia de ingresos a lo largo del tiempo?"
   ]
  },
  {
   "cell_type": "code",
   "execution_count": 228,
   "metadata": {
    "id": "hxKqixc9553s"
   },
   "outputs": [],
   "source": [
    "# Se agrupa por mes y sumar los ingresos\n",
    "monthly_income = df_supermarket_sales.groupby(df_supermarket_sales['date'].dt.to_period('M'))['5%_of_gross_income'].sum()"
   ]
  },
  {
   "cell_type": "code",
   "execution_count": 230,
   "metadata": {},
   "outputs": [
    {
     "data": {
      "text/html": [
       "<div>\n",
       "<style scoped>\n",
       "    .dataframe tbody tr th:only-of-type {\n",
       "        vertical-align: middle;\n",
       "    }\n",
       "\n",
       "    .dataframe tbody tr th {\n",
       "        vertical-align: top;\n",
       "    }\n",
       "\n",
       "    .dataframe thead th {\n",
       "        text-align: right;\n",
       "    }\n",
       "</style>\n",
       "<table border=\"1\" class=\"dataframe\">\n",
       "  <thead>\n",
       "    <tr style=\"text-align: right;\">\n",
       "      <th></th>\n",
       "      <th>5%_of_gross_income</th>\n",
       "    </tr>\n",
       "    <tr>\n",
       "      <th>date</th>\n",
       "      <th></th>\n",
       "    </tr>\n",
       "  </thead>\n",
       "  <tbody>\n",
       "    <tr>\n",
       "      <th>2019-01</th>\n",
       "      <td>5537.708</td>\n",
       "    </tr>\n",
       "    <tr>\n",
       "      <th>2019-02</th>\n",
       "      <td>4629.494</td>\n",
       "    </tr>\n",
       "    <tr>\n",
       "      <th>2019-03</th>\n",
       "      <td>5212.167</td>\n",
       "    </tr>\n",
       "  </tbody>\n",
       "</table>\n",
       "</div>"
      ],
      "text/plain": [
       "         5%_of_gross_income\n",
       "date                       \n",
       "2019-01            5537.708\n",
       "2019-02            4629.494\n",
       "2019-03            5212.167"
      ]
     },
     "execution_count": 230,
     "metadata": {},
     "output_type": "execute_result"
    }
   ],
   "source": [
    "monthly_income = pd.DataFrame(monthly_income)\n",
    "monthly_income"
   ]
  },
  {
   "cell_type": "code",
   "execution_count": 235,
   "metadata": {
    "colab": {
     "base_uri": "https://localhost:8080/",
     "height": 607
    },
    "id": "Yd6_3XERyTbZ",
    "outputId": "f8a4c41d-5953-452a-944b-55d563ac58f4"
   },
   "outputs": [
    {
     "data": {
      "text/plain": [
       "<Figure size 1200x600 with 0 Axes>"
      ]
     },
     "metadata": {},
     "output_type": "display_data"
    },
    {
     "data": {
      "image/png": "[encoded data removed]",
      "text/plain": [
       "<Figure size 640x480 with 1 Axes>"
      ]
     },
     "metadata": {},
     "output_type": "display_data"
    }
   ],
   "source": [
    "# Crear el gráfico de barras\n",
    "plt.figure(figsize=(12, 6))\n",
    "monthly_income.plot(kind='bar', color='skyblue')\n",
    "plt.title('Ingresos mensuales')\n",
    "plt.xlabel('Mes')\n",
    "plt.ylabel('Ingresos (5% de ingreso bruto)')\n",
    "plt.xticks(rotation=45)  # Rotar las etiquetas del eje x para mejor visualización\n",
    "plt.legend(title='Ingreso Bruto', bbox_to_anchor=(1.01, 1), loc='upper left')\n",
    "plt.tight_layout()\n",
    "plt.show()"
   ]
  },
  {
   "cell_type": "code",
   "execution_count": null,
   "metadata": {},
   "outputs": [],
   "source": []
  }
 ],
 "metadata": {
  "colab": {
   "provenance": []
  },
  "kernelspec": {
   "display_name": "Python 3 (ipykernel)",
   "language": "python",
   "name": "python3"
  },
  "language_info": {
   "codemirror_mode": {
    "name": "ipython",
    "version": 3
   },
   "file_extension": ".py",
   "mimetype": "text/x-python",
   "name": "python",
   "nbconvert_exporter": "python",
   "pygments_lexer": "ipython3",
   "version": "3.9.13"
  }
 },
 "nbformat": 4,
 "nbformat_minor": 1
}
