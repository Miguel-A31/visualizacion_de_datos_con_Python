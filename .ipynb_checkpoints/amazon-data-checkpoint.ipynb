{
 "cells": [
  {
   "cell_type": "code",
   "execution_count": 1,
   "id": "47a86b0f",
   "metadata": {
    "_cell_guid": "b1076dfc-b9ad-4769-8c92-a6c4dae69d19",
    "_uuid": "8f2839f25d086af736a60e9eeb907d3b93b6e0e5",
    "execution": {
     "iopub.execute_input": "2023-05-22T08:47:02.408064Z",
     "iopub.status.busy": "2023-05-22T08:47:02.407669Z",
     "iopub.status.idle": "2023-05-22T08:47:02.479222Z",
     "shell.execute_reply": "2023-05-22T08:47:02.477880Z"
    },
    "papermill": {
     "duration": 0.087087,
     "end_time": "2023-05-22T08:47:02.482952",
     "exception": false,
     "start_time": "2023-05-22T08:47:02.395865",
     "status": "completed"
    },
    "tags": []
   },
   "outputs": [
    {
     "name": "stdout",
     "output_type": "stream",
     "text": [
      "/kaggle/input/amazon-products-dataset/Gaming Consoles.csv\n",
      "/kaggle/input/amazon-products-dataset/Car Electronics.csv\n",
      "/kaggle/input/amazon-products-dataset/Janitorial and Sanitation Supplies.csv\n",
      "/kaggle/input/amazon-products-dataset/All Electronics.csv\n",
      "/kaggle/input/amazon-products-dataset/All Books.csv\n",
      "/kaggle/input/amazon-products-dataset/Make-up.csv\n",
      "/kaggle/input/amazon-products-dataset/Travel Accessories.csv\n",
      "/kaggle/input/amazon-products-dataset/Indian Language Books.csv\n",
      "/kaggle/input/amazon-products-dataset/Car and Bike Care.csv\n",
      "/kaggle/input/amazon-products-dataset/Sunglasses.csv\n",
      "/kaggle/input/amazon-products-dataset/Bags and Luggage.csv\n",
      "/kaggle/input/amazon-products-dataset/Yoga.csv\n",
      "/kaggle/input/amazon-products-dataset/Sportswear.csv\n",
      "/kaggle/input/amazon-products-dataset/Fiction Books.csv\n",
      "/kaggle/input/amazon-products-dataset/Exam Central.csv\n",
      "/kaggle/input/amazon-products-dataset/Home Storage.csv\n",
      "/kaggle/input/amazon-products-dataset/Toys Gifting Store.csv\n",
      "/kaggle/input/amazon-products-dataset/All English.csv\n",
      "/kaggle/input/amazon-products-dataset/Amazon-Products.csv\n",
      "/kaggle/input/amazon-products-dataset/Air Conditioners.csv\n",
      "/kaggle/input/amazon-products-dataset/Shoes.csv\n",
      "/kaggle/input/amazon-products-dataset/Casual Shoes.csv\n",
      "/kaggle/input/amazon-products-dataset/Baby Products.csv\n",
      "/kaggle/input/amazon-products-dataset/Sports Collectibles.csv\n",
      "/kaggle/input/amazon-products-dataset/Wallets.csv\n",
      "/kaggle/input/amazon-products-dataset/Musical Instruments and Professional Audio.csv\n",
      "/kaggle/input/amazon-products-dataset/Gold and Diamond Jewellery.csv\n",
      "/kaggle/input/amazon-products-dataset/Nursing and Feeding.csv\n",
      "/kaggle/input/amazon-products-dataset/Home Furnishing.csv\n",
      "/kaggle/input/amazon-products-dataset/School Textbooks.csv\n",
      "/kaggle/input/amazon-products-dataset/All Hindi.csv\n",
      "/kaggle/input/amazon-products-dataset/Baby Bath Skin and Grooming.csv\n",
      "/kaggle/input/amazon-products-dataset/Coffee Tea and Beverages.csv\n",
      "/kaggle/input/amazon-products-dataset/Headphones.csv\n",
      "/kaggle/input/amazon-products-dataset/Furniture.csv\n",
      "/kaggle/input/amazon-products-dataset/Shirts.csv\n",
      "/kaggle/input/amazon-products-dataset/Subscribe and Save.csv\n",
      "/kaggle/input/amazon-products-dataset/Fitness Accessories.csv\n",
      "/kaggle/input/amazon-products-dataset/Formal Shoes.csv\n",
      "/kaggle/input/amazon-products-dataset/Cycling.csv\n",
      "/kaggle/input/amazon-products-dataset/Western Wear.csv\n",
      "/kaggle/input/amazon-products-dataset/Bedroom Linen.csv\n",
      "/kaggle/input/amazon-products-dataset/Gaming Accessories.csv\n",
      "/kaggle/input/amazon-products-dataset/Amazon Fashion.csv\n",
      "/kaggle/input/amazon-products-dataset/Home Entertainment Systems.csv\n",
      "/kaggle/input/amazon-products-dataset/Strollers and Prams.csv\n",
      "/kaggle/input/amazon-products-dataset/Refurbished and Open Box.csv\n",
      "/kaggle/input/amazon-products-dataset/Garden and Outdoors.csv\n",
      "/kaggle/input/amazon-products-dataset/Diapers.csv\n",
      "/kaggle/input/amazon-products-dataset/STEM Toys Store.csv\n",
      "/kaggle/input/amazon-products-dataset/Kids Clothing.csv\n",
      "/kaggle/input/amazon-products-dataset/All Car and Motorbike Products.csv\n",
      "/kaggle/input/amazon-products-dataset/All Sports Fitness and Outdoors.csv\n",
      "/kaggle/input/amazon-products-dataset/Film Songs.csv\n",
      "/kaggle/input/amazon-products-dataset/All Home and Kitchen.csv\n",
      "/kaggle/input/amazon-products-dataset/Speakers.csv\n",
      "/kaggle/input/amazon-products-dataset/Beauty and Grooming.csv\n",
      "/kaggle/input/amazon-products-dataset/Fashion and Silver Jewellery.csv\n",
      "/kaggle/input/amazon-products-dataset/Televisions.csv\n",
      "/kaggle/input/amazon-products-dataset/Cameras.csv\n",
      "/kaggle/input/amazon-products-dataset/Home Improvement.csv\n",
      "/kaggle/input/amazon-products-dataset/Blu-ray.csv\n",
      "/kaggle/input/amazon-products-dataset/Kitchen and Home Appliances.csv\n",
      "/kaggle/input/amazon-products-dataset/Health and Personal Care.csv\n",
      "/kaggle/input/amazon-products-dataset/Sports Shoes.csv\n",
      "/kaggle/input/amazon-products-dataset/Indoor Lighting.csv\n",
      "/kaggle/input/amazon-products-dataset/Indian Classical.csv\n",
      "/kaggle/input/amazon-products-dataset/Mens Fashion.csv\n",
      "/kaggle/input/amazon-products-dataset/Kindle eBooks.csv\n",
      "/kaggle/input/amazon-products-dataset/Snack Foods.csv\n",
      "/kaggle/input/amazon-products-dataset/Kitchen Storage and Containers.csv\n",
      "/kaggle/input/amazon-products-dataset/Strength Training.csv\n",
      "/kaggle/input/amazon-products-dataset/International Music.csv\n",
      "/kaggle/input/amazon-products-dataset/Video Games Deals.csv\n",
      "/kaggle/input/amazon-products-dataset/Textbooks.csv\n",
      "/kaggle/input/amazon-products-dataset/Fine Art.csv\n",
      "/kaggle/input/amazon-products-dataset/All Grocery and Gourmet Foods.csv\n",
      "/kaggle/input/amazon-products-dataset/Luxury Beauty.csv\n",
      "/kaggle/input/amazon-products-dataset/Kids Shoes.csv\n",
      "/kaggle/input/amazon-products-dataset/Jewellery.csv\n",
      "/kaggle/input/amazon-products-dataset/Jeans.csv\n",
      "/kaggle/input/amazon-products-dataset/Cricket.csv\n",
      "/kaggle/input/amazon-products-dataset/Kids Fashion.csv\n",
      "/kaggle/input/amazon-products-dataset/Baby Fashion.csv\n",
      "/kaggle/input/amazon-products-dataset/Sewing and Craft Supplies.csv\n",
      "/kaggle/input/amazon-products-dataset/Car Parts.csv\n",
      "/kaggle/input/amazon-products-dataset/Pantry.csv\n",
      "/kaggle/input/amazon-products-dataset/Car Accessories.csv\n",
      "/kaggle/input/amazon-products-dataset/All Music.csv\n",
      "/kaggle/input/amazon-products-dataset/Toys and Games.csv\n",
      "/kaggle/input/amazon-products-dataset/Amazon Pharmacy.csv\n",
      "/kaggle/input/amazon-products-dataset/Camping and Hiking.csv\n",
      "/kaggle/input/amazon-products-dataset/Ethnic Wear.csv\n",
      "/kaggle/input/amazon-products-dataset/Kids Watches.csv\n",
      "/kaggle/input/amazon-products-dataset/Heating and Cooling Appliances.csv\n",
      "/kaggle/input/amazon-products-dataset/Kitchen and Dining.csv\n",
      "/kaggle/input/amazon-products-dataset/Personal Care Appliances.csv\n",
      "/kaggle/input/amazon-products-dataset/Home Audio and Theater.csv\n",
      "/kaggle/input/amazon-products-dataset/Security Cameras.csv\n",
      "/kaggle/input/amazon-products-dataset/Fashion Sales and Deals.csv\n",
      "/kaggle/input/amazon-products-dataset/Lab and Scientific.csv\n",
      "/kaggle/input/amazon-products-dataset/Rucksacks.csv\n",
      "/kaggle/input/amazon-products-dataset/Football.csv\n",
      "/kaggle/input/amazon-products-dataset/Diet and Nutrition.csv\n",
      "/kaggle/input/amazon-products-dataset/Lingerie and Nightwear.csv\n",
      "/kaggle/input/amazon-products-dataset/School Bags.csv\n",
      "/kaggle/input/amazon-products-dataset/T-shirts and Polos.csv\n",
      "/kaggle/input/amazon-products-dataset/All Pet Supplies.csv\n",
      "/kaggle/input/amazon-products-dataset/Value Bazaar.csv\n",
      "/kaggle/input/amazon-products-dataset/Household Supplies.csv\n",
      "/kaggle/input/amazon-products-dataset/Backpacks.csv\n",
      "/kaggle/input/amazon-products-dataset/Fashion Sandals.csv\n",
      "/kaggle/input/amazon-products-dataset/Camera Accessories.csv\n",
      "/kaggle/input/amazon-products-dataset/Industrial and Scientific Supplies.csv\n",
      "/kaggle/input/amazon-products-dataset/Motorbike Accessories and Parts.csv\n",
      "/kaggle/input/amazon-products-dataset/All Appliances.csv\n",
      "/kaggle/input/amazon-products-dataset/PC Games.csv\n",
      "/kaggle/input/amazon-products-dataset/Running.csv\n",
      "/kaggle/input/amazon-products-dataset/All Movies and TV Shows.csv\n",
      "/kaggle/input/amazon-products-dataset/Dog supplies.csv\n",
      "/kaggle/input/amazon-products-dataset/Entertainment Collectibles.csv\n",
      "/kaggle/input/amazon-products-dataset/Washing Machines.csv\n",
      "/kaggle/input/amazon-products-dataset/Cardio Equipment.csv\n",
      "/kaggle/input/amazon-products-dataset/Refrigerators.csv\n",
      "/kaggle/input/amazon-products-dataset/All Video Games.csv\n",
      "/kaggle/input/amazon-products-dataset/Innerwear.csv\n",
      "/kaggle/input/amazon-products-dataset/Suitcases and Trolley Bags.csv\n",
      "/kaggle/input/amazon-products-dataset/Home Dcor.csv\n",
      "/kaggle/input/amazon-products-dataset/Clothing.csv\n",
      "/kaggle/input/amazon-products-dataset/Ballerinas.csv\n",
      "/kaggle/input/amazon-products-dataset/All Exercise and Fitness.csv\n",
      "/kaggle/input/amazon-products-dataset/Badminton.csv\n",
      "/kaggle/input/amazon-products-dataset/Travel Duffles.csv\n",
      "/kaggle/input/amazon-products-dataset/Handbags and Clutches.csv\n",
      "/kaggle/input/amazon-products-dataset/Womens Fashion.csv\n",
      "/kaggle/input/amazon-products-dataset/International Toy Store.csv\n",
      "/kaggle/input/amazon-products-dataset/The Designer Boutique.csv\n",
      "/kaggle/input/amazon-products-dataset/Watches.csv\n",
      "/kaggle/input/amazon-products-dataset/Test Measure and Inspect.csv\n",
      "/kaggle/input/amazon-products-dataset/Childrens Books.csv\n"
     ]
    }
   ],
   "source": [
    "# This Python 3 environment comes with many helpful analytics libraries installed\n",
    "# It is defined by the kaggle/python Docker image: https://github.com/kaggle/docker-python\n",
    "# For example, here's several helpful packages to load\n",
    "\n",
    "import numpy as np # linear algebra\n",
    "import pandas as pd # data processing, CSV file I/O (e.g. pd.read_csv)\n",
    "\n",
    "# Input data files are available in the read-only \"../input/\" directory\n",
    "# For example, running this (by clicking run or pressing Shift+Enter) will list all files under the input directory\n",
    "\n",
    "import os\n",
    "for dirname, _, filenames in os.walk('/kaggle/input'):\n",
    "    for filename in filenames:\n",
    "        print(os.path.join(dirname, filename))\n",
    "\n",
    "# You can write up to 20GB to the current directory (/kaggle/working/) that gets preserved as output when you create a version using \"Save & Run All\" \n",
    "# You can also write temporary files to /kaggle/temp/, but they won't be saved outside of the current session"
   ]
  },
  {
   "cell_type": "code",
   "execution_count": 2,
   "id": "b0137ab9",
   "metadata": {
    "execution": {
     "iopub.execute_input": "2023-05-22T08:47:02.504568Z",
     "iopub.status.busy": "2023-05-22T08:47:02.504173Z",
     "iopub.status.idle": "2023-05-22T08:47:02.574666Z",
     "shell.execute_reply": "2023-05-22T08:47:02.573535Z"
    },
    "papermill": {
     "duration": 0.084325,
     "end_time": "2023-05-22T08:47:02.577152",
     "exception": false,
     "start_time": "2023-05-22T08:47:02.492827",
     "status": "completed"
    },
    "tags": []
   },
   "outputs": [
    {
     "data": {
      "text/html": [
       "<div>\n",
       "<style scoped>\n",
       "    .dataframe tbody tr th:only-of-type {\n",
       "        vertical-align: middle;\n",
       "    }\n",
       "\n",
       "    .dataframe tbody tr th {\n",
       "        vertical-align: top;\n",
       "    }\n",
       "\n",
       "    .dataframe thead th {\n",
       "        text-align: right;\n",
       "    }\n",
       "</style>\n",
       "<table border=\"1\" class=\"dataframe\">\n",
       "  <thead>\n",
       "    <tr style=\"text-align: right;\">\n",
       "      <th></th>\n",
       "      <th>name</th>\n",
       "      <th>main_category</th>\n",
       "      <th>sub_category</th>\n",
       "      <th>image</th>\n",
       "      <th>link</th>\n",
       "      <th>ratings</th>\n",
       "      <th>no_of_ratings</th>\n",
       "      <th>discount_price</th>\n",
       "      <th>actual_price</th>\n",
       "    </tr>\n",
       "  </thead>\n",
       "  <tbody>\n",
       "    <tr>\n",
       "      <th>0</th>\n",
       "      <td>Fastrack Oval Unisex Sunglasses (P188BR1F|Pink...</td>\n",
       "      <td>accessories</td>\n",
       "      <td>Sunglasses</td>\n",
       "      <td>https://m.media-amazon.com/images/I/61s9NMJ-ws...</td>\n",
       "      <td>https://www.amazon.in/Fastrack-Unisex-Sunglass...</td>\n",
       "      <td>3.9</td>\n",
       "      <td>132</td>\n",
       "      <td>₹1,249</td>\n",
       "      <td>₹1,399</td>\n",
       "    </tr>\n",
       "    <tr>\n",
       "      <th>1</th>\n",
       "      <td>NUVeW Mirrored Sports Unisex Sunglasses - (Col...</td>\n",
       "      <td>accessories</td>\n",
       "      <td>Sunglasses</td>\n",
       "      <td>https://m.media-amazon.com/images/I/61fNyfHaCb...</td>\n",
       "      <td>https://www.amazon.in/NuVew-Mirrored-Sports-Un...</td>\n",
       "      <td>3.7</td>\n",
       "      <td>153</td>\n",
       "      <td>₹345</td>\n",
       "      <td>₹1,245</td>\n",
       "    </tr>\n",
       "    <tr>\n",
       "      <th>2</th>\n",
       "      <td>ENRICO Women's Full Rim Cateye Sunglasses | UV...</td>\n",
       "      <td>accessories</td>\n",
       "      <td>Sunglasses</td>\n",
       "      <td>https://m.media-amazon.com/images/I/714gIm20B4...</td>\n",
       "      <td>https://www.amazon.in/Enrico-Heather-Polycarbo...</td>\n",
       "      <td>4.6</td>\n",
       "      <td>7</td>\n",
       "      <td>₹899</td>\n",
       "      <td>₹1,800</td>\n",
       "    </tr>\n",
       "    <tr>\n",
       "      <th>3</th>\n",
       "      <td>Royal Son Women Cat Eye Over Sized Sunglasses</td>\n",
       "      <td>accessories</td>\n",
       "      <td>Sunglasses</td>\n",
       "      <td>https://m.media-amazon.com/images/I/61uJJTBKHe...</td>\n",
       "      <td>https://www.amazon.in/Stylish-Gradiant-Goggles...</td>\n",
       "      <td>3.6</td>\n",
       "      <td>100</td>\n",
       "      <td>₹657</td>\n",
       "      <td>₹1,499</td>\n",
       "    </tr>\n",
       "    <tr>\n",
       "      <th>4</th>\n",
       "      <td>GUESS Gradient Butterfly Women's Sunglasses 73...</td>\n",
       "      <td>accessories</td>\n",
       "      <td>Sunglasses</td>\n",
       "      <td>https://m.media-amazon.com/images/I/51Fkb05aW4...</td>\n",
       "      <td>https://www.amazon.in/GUESS-Gradient-Butterfly...</td>\n",
       "      <td>3.3</td>\n",
       "      <td>7</td>\n",
       "      <td>₹1,698</td>\n",
       "      <td>₹9,990</td>\n",
       "    </tr>\n",
       "  </tbody>\n",
       "</table>\n",
       "</div>"
      ],
      "text/plain": [
       "                                                name main_category  \\\n",
       "0  Fastrack Oval Unisex Sunglasses (P188BR1F|Pink...   accessories   \n",
       "1  NUVeW Mirrored Sports Unisex Sunglasses - (Col...   accessories   \n",
       "2  ENRICO Women's Full Rim Cateye Sunglasses | UV...   accessories   \n",
       "3      Royal Son Women Cat Eye Over Sized Sunglasses   accessories   \n",
       "4  GUESS Gradient Butterfly Women's Sunglasses 73...   accessories   \n",
       "\n",
       "  sub_category                                              image  \\\n",
       "0   Sunglasses  https://m.media-amazon.com/images/I/61s9NMJ-ws...   \n",
       "1   Sunglasses  https://m.media-amazon.com/images/I/61fNyfHaCb...   \n",
       "2   Sunglasses  https://m.media-amazon.com/images/I/714gIm20B4...   \n",
       "3   Sunglasses  https://m.media-amazon.com/images/I/61uJJTBKHe...   \n",
       "4   Sunglasses  https://m.media-amazon.com/images/I/51Fkb05aW4...   \n",
       "\n",
       "                                                link ratings no_of_ratings  \\\n",
       "0  https://www.amazon.in/Fastrack-Unisex-Sunglass...     3.9           132   \n",
       "1  https://www.amazon.in/NuVew-Mirrored-Sports-Un...     3.7           153   \n",
       "2  https://www.amazon.in/Enrico-Heather-Polycarbo...     4.6             7   \n",
       "3  https://www.amazon.in/Stylish-Gradiant-Goggles...     3.6           100   \n",
       "4  https://www.amazon.in/GUESS-Gradient-Butterfly...     3.3             7   \n",
       "\n",
       "  discount_price actual_price  \n",
       "0         ₹1,249       ₹1,399  \n",
       "1           ₹345       ₹1,245  \n",
       "2           ₹899       ₹1,800  \n",
       "3           ₹657       ₹1,499  \n",
       "4         ₹1,698       ₹9,990  "
      ]
     },
     "execution_count": 2,
     "metadata": {},
     "output_type": "execute_result"
    }
   ],
   "source": [
    "#Loading sunglasses.csv from amazon-product dataset\n",
    "path = \"/kaggle/input/amazon-products-dataset/Sunglasses.csv\"\n",
    "df = pd.read_csv(path, low_memory=False)\n",
    "df.head()"
   ]
  },
  {
   "cell_type": "code",
   "execution_count": 3,
   "id": "504cb1f0",
   "metadata": {
    "execution": {
     "iopub.execute_input": "2023-05-22T08:47:02.599281Z",
     "iopub.status.busy": "2023-05-22T08:47:02.598126Z",
     "iopub.status.idle": "2023-05-22T08:47:03.524284Z",
     "shell.execute_reply": "2023-05-22T08:47:03.523173Z"
    },
    "papermill": {
     "duration": 0.940078,
     "end_time": "2023-05-22T08:47:03.526975",
     "exception": false,
     "start_time": "2023-05-22T08:47:02.586897",
     "status": "completed"
    },
    "tags": []
   },
   "outputs": [],
   "source": [
    "#import libraries\n",
    "import matplotlib.pyplot as plt\n",
    "import plotly.express as px\n"
   ]
  },
  {
   "cell_type": "code",
   "execution_count": 4,
   "id": "6ffd9177",
   "metadata": {
    "execution": {
     "iopub.execute_input": "2023-05-22T08:47:03.547980Z",
     "iopub.status.busy": "2023-05-22T08:47:03.547559Z",
     "iopub.status.idle": "2023-05-22T08:47:03.554081Z",
     "shell.execute_reply": "2023-05-22T08:47:03.553097Z"
    },
    "papermill": {
     "duration": 0.019675,
     "end_time": "2023-05-22T08:47:03.556414",
     "exception": false,
     "start_time": "2023-05-22T08:47:03.536739",
     "status": "completed"
    },
    "tags": []
   },
   "outputs": [
    {
     "data": {
      "text/plain": [
       "(1392, 9)"
      ]
     },
     "execution_count": 4,
     "metadata": {},
     "output_type": "execute_result"
    }
   ],
   "source": [
    "#Rows and columns\n",
    "df.shape"
   ]
  },
  {
   "cell_type": "code",
   "execution_count": 5,
   "id": "f0883fdd",
   "metadata": {
    "execution": {
     "iopub.execute_input": "2023-05-22T08:47:03.578180Z",
     "iopub.status.busy": "2023-05-22T08:47:03.577768Z",
     "iopub.status.idle": "2023-05-22T08:47:03.606107Z",
     "shell.execute_reply": "2023-05-22T08:47:03.604675Z"
    },
    "papermill": {
     "duration": 0.042045,
     "end_time": "2023-05-22T08:47:03.608468",
     "exception": false,
     "start_time": "2023-05-22T08:47:03.566423",
     "status": "completed"
    },
    "tags": []
   },
   "outputs": [
    {
     "name": "stdout",
     "output_type": "stream",
     "text": [
      "<class 'pandas.core.frame.DataFrame'>\n",
      "RangeIndex: 1392 entries, 0 to 1391\n",
      "Data columns (total 9 columns):\n",
      " #   Column          Non-Null Count  Dtype \n",
      "---  ------          --------------  ----- \n",
      " 0   name            1392 non-null   object\n",
      " 1   main_category   1392 non-null   object\n",
      " 2   sub_category    1392 non-null   object\n",
      " 3   image           1392 non-null   object\n",
      " 4   link            1392 non-null   object\n",
      " 5   ratings         371 non-null    object\n",
      " 6   no_of_ratings   371 non-null    object\n",
      " 7   discount_price  1044 non-null   object\n",
      " 8   actual_price    1239 non-null   object\n",
      "dtypes: object(9)\n",
      "memory usage: 98.0+ KB\n"
     ]
    }
   ],
   "source": [
    "#info about dataset\n",
    "df.info()"
   ]
  },
  {
   "cell_type": "code",
   "execution_count": 6,
   "id": "1b374444",
   "metadata": {
    "execution": {
     "iopub.execute_input": "2023-05-22T08:47:03.631246Z",
     "iopub.status.busy": "2023-05-22T08:47:03.630358Z",
     "iopub.status.idle": "2023-05-22T08:47:03.642492Z",
     "shell.execute_reply": "2023-05-22T08:47:03.641415Z"
    },
    "papermill": {
     "duration": 0.026053,
     "end_time": "2023-05-22T08:47:03.644683",
     "exception": false,
     "start_time": "2023-05-22T08:47:03.618630",
     "status": "completed"
    },
    "tags": []
   },
   "outputs": [
    {
     "data": {
      "text/plain": [
       "name                 0\n",
       "main_category        0\n",
       "sub_category         0\n",
       "image                0\n",
       "link                 0\n",
       "ratings           1021\n",
       "no_of_ratings     1021\n",
       "discount_price     348\n",
       "actual_price       153\n",
       "dtype: int64"
      ]
     },
     "execution_count": 6,
     "metadata": {},
     "output_type": "execute_result"
    }
   ],
   "source": [
    "# null values in dataframes\n",
    "df.isnull().sum()"
   ]
  },
  {
   "cell_type": "markdown",
   "id": "98f30791",
   "metadata": {
    "papermill": {
     "duration": 0.009805,
     "end_time": "2023-05-22T08:47:03.664761",
     "exception": false,
     "start_time": "2023-05-22T08:47:03.654956",
     "status": "completed"
    },
    "tags": []
   },
   "source": [
    "# Observation\n",
    "Upon examining the dataset, it becomes apparent that there are missing values present in the \"rating,\" \"no_of_ratings,\" \"discount_price,\" and \"actual_price\" columns.\n",
    "\n",
    "To conduct an analysis based on the ratings and number of ratings, it is crucial to remove the rows that contain null values in these two columns. This step ensures that we work with complete and valid data, focusing only on products that have received ratings.**We can notice that there are missing values in the columns rating, no_of_ratings, discount_price, actual price columns..**\n",
    "\n",
    "\n",
    "Now i want to analysis based on the ratings and no of rating.So i have to remove all the null values in those two columns as we dont need those which has no ratings"
   ]
  },
  {
   "cell_type": "markdown",
   "id": "32a26753",
   "metadata": {
    "papermill": {
     "duration": 0.010537,
     "end_time": "2023-05-22T08:47:03.685630",
     "exception": false,
     "start_time": "2023-05-22T08:47:03.675093",
     "status": "completed"
    },
    "tags": []
   },
   "source": [
    "# Data Cleaning\n",
    "\n",
    "To proceed with the analysis, we will remove the rows with missing values in the \"rating\" and \"no_of_ratings\" columns. By eliminating these rows, we exclude products that have not received any ratings, as they do not contribute to the analysis based on ratings."
   ]
  },
  {
   "cell_type": "code",
   "execution_count": 7,
   "id": "da9f320e",
   "metadata": {
    "execution": {
     "iopub.execute_input": "2023-05-22T08:47:03.708598Z",
     "iopub.status.busy": "2023-05-22T08:47:03.707967Z",
     "iopub.status.idle": "2023-05-22T08:47:03.717739Z",
     "shell.execute_reply": "2023-05-22T08:47:03.716452Z"
    },
    "papermill": {
     "duration": 0.024106,
     "end_time": "2023-05-22T08:47:03.720228",
     "exception": false,
     "start_time": "2023-05-22T08:47:03.696122",
     "status": "completed"
    },
    "tags": []
   },
   "outputs": [
    {
     "data": {
      "text/plain": [
       "(371, 9)"
      ]
     },
     "execution_count": 7,
     "metadata": {},
     "output_type": "execute_result"
    }
   ],
   "source": [
    "#drop missing value from rating and no of rationg\n",
    "mod_df = df.dropna(subset=[\"ratings\", \"no_of_ratings\"])\n",
    "mod_df.shape"
   ]
  },
  {
   "cell_type": "code",
   "execution_count": 8,
   "id": "e55d7a0f",
   "metadata": {
    "execution": {
     "iopub.execute_input": "2023-05-22T08:47:03.742661Z",
     "iopub.status.busy": "2023-05-22T08:47:03.742240Z",
     "iopub.status.idle": "2023-05-22T08:47:03.748445Z",
     "shell.execute_reply": "2023-05-22T08:47:03.747352Z"
    },
    "papermill": {
     "duration": 0.019951,
     "end_time": "2023-05-22T08:47:03.750637",
     "exception": false,
     "start_time": "2023-05-22T08:47:03.730686",
     "status": "completed"
    },
    "tags": []
   },
   "outputs": [
    {
     "name": "stdout",
     "output_type": "stream",
     "text": [
      "26.65 %\n"
     ]
    }
   ],
   "source": [
    "#percentage of product that is rated\n",
    "perc_rating = ((mod_df.shape[0]/df.shape[0])*100)\n",
    "perc_rating = round(perc_rating, 2)\n",
    "print(perc_rating,\"%\")"
   ]
  },
  {
   "cell_type": "code",
   "execution_count": 9,
   "id": "8b0e3ec6",
   "metadata": {
    "execution": {
     "iopub.execute_input": "2023-05-22T08:47:03.773435Z",
     "iopub.status.busy": "2023-05-22T08:47:03.773016Z",
     "iopub.status.idle": "2023-05-22T08:47:03.780044Z",
     "shell.execute_reply": "2023-05-22T08:47:03.779208Z"
    },
    "papermill": {
     "duration": 0.020978,
     "end_time": "2023-05-22T08:47:03.782186",
     "exception": false,
     "start_time": "2023-05-22T08:47:03.761208",
     "status": "completed"
    },
    "tags": []
   },
   "outputs": [
    {
     "data": {
      "text/plain": [
       "array(['3.9', '3.7', '4.6', '3.6', '3.3', '5.0', '4.5', '3.4', '4.0',\n",
       "       '2.0', '4.1', '3.0', '4.3', '3.5', '3.8', '4.4', '2.8', '1.0',\n",
       "       '2.4', '4.2', '2.7', '4.7', '2.5', '₹2.99', 'FREE', '4.8', '4.9',\n",
       "       '3.2', '3.1', '1.5', '2.3', '2.1', '2.6', '1.8'], dtype=object)"
      ]
     },
     "execution_count": 9,
     "metadata": {},
     "output_type": "execute_result"
    }
   ],
   "source": [
    "# Modify ratings values\n",
    "mod_df['ratings'].unique()"
   ]
  },
  {
   "cell_type": "code",
   "execution_count": 10,
   "id": "71ee47b6",
   "metadata": {
    "execution": {
     "iopub.execute_input": "2023-05-22T08:47:03.805871Z",
     "iopub.status.busy": "2023-05-22T08:47:03.804600Z",
     "iopub.status.idle": "2023-05-22T08:47:03.819394Z",
     "shell.execute_reply": "2023-05-22T08:47:03.818187Z"
    },
    "papermill": {
     "duration": 0.029212,
     "end_time": "2023-05-22T08:47:03.821961",
     "exception": false,
     "start_time": "2023-05-22T08:47:03.792749",
     "status": "completed"
    },
    "tags": []
   },
   "outputs": [
    {
     "name": "stderr",
     "output_type": "stream",
     "text": [
      "/tmp/ipykernel_20/1625897200.py:2: SettingWithCopyWarning: \n",
      "A value is trying to be set on a copy of a slice from a DataFrame.\n",
      "Try using .loc[row_indexer,col_indexer] = value instead\n",
      "\n",
      "See the caveats in the documentation: https://pandas.pydata.org/pandas-docs/stable/user_guide/indexing.html#returning-a-view-versus-a-copy\n",
      "  mod_df['ratings'] = mod_df['ratings'].replace(['Get','FREE','₹68.99', '₹65','₹70', '₹100', '₹99', '₹2.99'], '0.0')\n",
      "/tmp/ipykernel_20/1625897200.py:3: SettingWithCopyWarning: \n",
      "A value is trying to be set on a copy of a slice from a DataFrame.\n",
      "Try using .loc[row_indexer,col_indexer] = value instead\n",
      "\n",
      "See the caveats in the documentation: https://pandas.pydata.org/pandas-docs/stable/user_guide/indexing.html#returning-a-view-versus-a-copy\n",
      "  mod_df['ratings'] = mod_df[\"ratings\"].astype(float)\n"
     ]
    },
    {
     "data": {
      "text/plain": [
       "array([3.9, 3.7, 4.6, 3.6, 3.3, 5. , 4.5, 3.4, 4. , 2. , 4.1, 3. , 4.3,\n",
       "       3.5, 3.8, 4.4, 2.8, 1. , 2.4, 4.2, 2.7, 4.7, 2.5, 0. , 4.8, 4.9,\n",
       "       3.2, 3.1, 1.5, 2.3, 2.1, 2.6, 1.8])"
      ]
     },
     "execution_count": 10,
     "metadata": {},
     "output_type": "execute_result"
    }
   ],
   "source": [
    "# Extract the digits and change the type to float\n",
    "mod_df['ratings'] = mod_df['ratings'].replace(['Get','FREE','₹68.99', '₹65','₹70', '₹100', '₹99', '₹2.99'], '0.0')\n",
    "mod_df['ratings'] = mod_df[\"ratings\"].astype(float)\n",
    "mod_df['ratings'].unique()"
   ]
  },
  {
   "cell_type": "code",
   "execution_count": 11,
   "id": "06e49860",
   "metadata": {
    "execution": {
     "iopub.execute_input": "2023-05-22T08:47:03.845586Z",
     "iopub.status.busy": "2023-05-22T08:47:03.844814Z",
     "iopub.status.idle": "2023-05-22T08:47:03.858075Z",
     "shell.execute_reply": "2023-05-22T08:47:03.856976Z"
    },
    "papermill": {
     "duration": 0.027656,
     "end_time": "2023-05-22T08:47:03.860441",
     "exception": false,
     "start_time": "2023-05-22T08:47:03.832785",
     "status": "completed"
    },
    "tags": []
   },
   "outputs": [
    {
     "data": {
      "text/plain": [
       "count    371.000000\n",
       "mean       3.306469\n",
       "std        1.732476\n",
       "min        0.000000\n",
       "25%        2.700000\n",
       "50%        4.100000\n",
       "75%        4.500000\n",
       "max        5.000000\n",
       "Name: ratings, dtype: float64"
      ]
     },
     "execution_count": 11,
     "metadata": {},
     "output_type": "execute_result"
    }
   ],
   "source": [
    "#observe distribution for ratings columns\n",
    "mod_df[\"ratings\"].describe()\n"
   ]
  },
  {
   "cell_type": "markdown",
   "id": "d207058c",
   "metadata": {
    "papermill": {
     "duration": 0.010601,
     "end_time": "2023-05-22T08:47:03.882235",
     "exception": false,
     "start_time": "2023-05-22T08:47:03.871634",
     "status": "completed"
    },
    "tags": []
   },
   "source": [
    "We can observe that the standard deviation is 1.73 and the mean is 3.3, indicating that the overall ratings for sunglasses products are average. However, there are two possible scenarios to consider. Since only 26.65% of the products have been rated, it is likely that most of the customers who were dissatisfied chose to leave a rating. Therefore, based on this analysis, it appears that the overall condition of the sunglasses products is satisfactory from a customer perspective."
   ]
  },
  {
   "cell_type": "code",
   "execution_count": 12,
   "id": "9d50854a",
   "metadata": {
    "execution": {
     "iopub.execute_input": "2023-05-22T08:47:03.906764Z",
     "iopub.status.busy": "2023-05-22T08:47:03.906110Z",
     "iopub.status.idle": "2023-05-22T08:47:03.917318Z",
     "shell.execute_reply": "2023-05-22T08:47:03.916116Z"
    },
    "papermill": {
     "duration": 0.026418,
     "end_time": "2023-05-22T08:47:03.919499",
     "exception": false,
     "start_time": "2023-05-22T08:47:03.893081",
     "status": "completed"
    },
    "tags": []
   },
   "outputs": [
    {
     "name": "stderr",
     "output_type": "stream",
     "text": [
      "/tmp/ipykernel_20/3565785915.py:2: SettingWithCopyWarning: \n",
      "A value is trying to be set on a copy of a slice from a DataFrame.\n",
      "Try using .loc[row_indexer,col_indexer] = value instead\n",
      "\n",
      "See the caveats in the documentation: https://pandas.pydata.org/pandas-docs/stable/user_guide/indexing.html#returning-a-view-versus-a-copy\n",
      "  mod_df['manufacturer'] = mod_df['name'].str.split(' ').str[0]\n"
     ]
    },
    {
     "data": {
      "text/plain": [
       "['name',\n",
       " 'main_category',\n",
       " 'sub_category',\n",
       " 'image',\n",
       " 'link',\n",
       " 'ratings',\n",
       " 'no_of_ratings',\n",
       " 'discount_price',\n",
       " 'actual_price']"
      ]
     },
     "execution_count": 12,
     "metadata": {},
     "output_type": "execute_result"
    }
   ],
   "source": [
    "#Extract Manufacture from name columns\n",
    "mod_df['manufacturer'] = mod_df['name'].str.split(' ').str[0]\n",
    "cols = df.columns.tolist()\n",
    "cols"
   ]
  },
  {
   "cell_type": "code",
   "execution_count": 13,
   "id": "e0cd8855",
   "metadata": {
    "execution": {
     "iopub.execute_input": "2023-05-22T08:47:03.943783Z",
     "iopub.status.busy": "2023-05-22T08:47:03.943370Z",
     "iopub.status.idle": "2023-05-22T08:47:03.952935Z",
     "shell.execute_reply": "2023-05-22T08:47:03.951794Z"
    },
    "papermill": {
     "duration": 0.024458,
     "end_time": "2023-05-22T08:47:03.955204",
     "exception": false,
     "start_time": "2023-05-22T08:47:03.930746",
     "status": "completed"
    },
    "tags": []
   },
   "outputs": [
    {
     "data": {
      "text/plain": [
       "0         Fastrack\n",
       "1            NUVeW\n",
       "2           ENRICO\n",
       "3            Royal\n",
       "4            GUESS\n",
       "           ...    \n",
       "1375        WOWSUN\n",
       "1376        Pomelo\n",
       "1377         SOJOS\n",
       "1388    Dorakitten\n",
       "1390    Dorakitten\n",
       "Name: manufacturer, Length: 371, dtype: object"
      ]
     },
     "execution_count": 13,
     "metadata": {},
     "output_type": "execute_result"
    }
   ],
   "source": [
    "mod_df[\"manufacturer\"]"
   ]
  },
  {
   "cell_type": "code",
   "execution_count": null,
   "id": "c4c777e7",
   "metadata": {
    "papermill": {
     "duration": 0.011218,
     "end_time": "2023-05-22T08:47:03.978096",
     "exception": false,
     "start_time": "2023-05-22T08:47:03.966878",
     "status": "completed"
    },
    "tags": []
   },
   "outputs": [],
   "source": []
  },
  {
   "cell_type": "code",
   "execution_count": 14,
   "id": "1d290f4e",
   "metadata": {
    "execution": {
     "iopub.execute_input": "2023-05-22T08:47:04.004020Z",
     "iopub.status.busy": "2023-05-22T08:47:04.003548Z",
     "iopub.status.idle": "2023-05-22T08:47:04.014130Z",
     "shell.execute_reply": "2023-05-22T08:47:04.012976Z"
    },
    "papermill": {
     "duration": 0.027056,
     "end_time": "2023-05-22T08:47:04.016538",
     "exception": false,
     "start_time": "2023-05-22T08:47:03.989482",
     "status": "completed"
    },
    "tags": []
   },
   "outputs": [
    {
     "data": {
      "text/plain": [
       "[25, 22, 13, 12, 11, 11, 11, 9, 7, 6]"
      ]
     },
     "execution_count": 14,
     "metadata": {},
     "output_type": "execute_result"
    }
   ],
   "source": [
    "# Let us check the common manufacture\n",
    "values = mod_df[\"manufacturer\"].value_counts().keys().tolist()[:10]\n",
    "counts = mod_df[\"manufacturer\"].value_counts().tolist()[:10]\n",
    "\n",
    "counts\n",
    "\n"
   ]
  },
  {
   "cell_type": "code",
   "execution_count": 15,
   "id": "b391e1b8",
   "metadata": {
    "execution": {
     "iopub.execute_input": "2023-05-22T08:47:04.042261Z",
     "iopub.status.busy": "2023-05-22T08:47:04.040970Z",
     "iopub.status.idle": "2023-05-22T08:47:05.698254Z",
     "shell.execute_reply": "2023-05-22T08:47:05.697064Z"
    },
    "papermill": {
     "duration": 1.672602,
     "end_time": "2023-05-22T08:47:05.700725",
     "exception": false,
     "start_time": "2023-05-22T08:47:04.028123",
     "status": "completed"
    },
    "tags": []
   },
   "outputs": [
    {
     "data": {
      "text/html": [
       "        <script type=\"text/javascript\">\n",
       "        window.PlotlyConfig = {MathJaxConfig: 'local'};\n",
       "        if (window.MathJax && window.MathJax.Hub && window.MathJax.Hub.Config) {window.MathJax.Hub.Config({SVG: {font: \"STIX-Web\"}});}\n",
       "        if (typeof require !== 'undefined') {\n",
       "        require.undef(\"plotly\");\n",
       "        requirejs.config({\n",
       "            paths: {\n",
       "                'plotly': ['https://cdn.plot.ly/plotly-2.20.0.min']\n",
       "            }\n",
       "        });\n",
       "        require(['plotly'], function(Plotly) {\n",
       "            window._Plotly = Plotly;\n",
       "        });\n",
       "        }\n",
       "        </script>\n",
       "        "
      ]
     },
     "metadata": {},
     "output_type": "display_data"
    },
    {
     "data": {
      "text/html": [
       "<div>                            <div id=\"d49d9bbf-f426-4274-ba50-671077df91a7\" class=\"plotly-graph-div\" style=\"height:525px; width:100%;\"></div>            <script type=\"text/javascript\">                require([\"plotly\"], function(Plotly) {                    window.PLOTLYENV=window.PLOTLYENV || {};                                    if (document.getElementById(\"d49d9bbf-f426-4274-ba50-671077df91a7\")) {                    Plotly.newPlot(                        \"d49d9bbf-f426-4274-ba50-671077df91a7\",                        [{\"alignmentgroup\":\"True\",\"hovertemplate\":\"x=%{x}<br>y=%{y}<extra></extra>\",\"legendgroup\":\"\",\"marker\":{\"color\":\"green\",\"pattern\":{\"shape\":\"\"}},\"name\":\"\",\"offsetgroup\":\"\",\"orientation\":\"v\",\"showlegend\":false,\"textposition\":\"auto\",\"x\":[\"GUESS\",\"WorldCare®\",\"CALANDIS\",\"SOJOS\",\"Vogue\",\"Aswadh\",\"Kate\",\"Oakley\",\"COACH\",\"ARZONAI\"],\"xaxis\":\"x\",\"y\":[25,22,13,12,11,11,11,9,7,6],\"yaxis\":\"y\",\"type\":\"bar\"}],                        {\"template\":{\"data\":{\"histogram2dcontour\":[{\"type\":\"histogram2dcontour\",\"colorbar\":{\"outlinewidth\":0,\"ticks\":\"\"},\"colorscale\":[[0.0,\"#0d0887\"],[0.1111111111111111,\"#46039f\"],[0.2222222222222222,\"#7201a8\"],[0.3333333333333333,\"#9c179e\"],[0.4444444444444444,\"#bd3786\"],[0.5555555555555556,\"#d8576b\"],[0.6666666666666666,\"#ed7953\"],[0.7777777777777778,\"#fb9f3a\"],[0.8888888888888888,\"#fdca26\"],[1.0,\"#f0f921\"]]}],\"choropleth\":[{\"type\":\"choropleth\",\"colorbar\":{\"outlinewidth\":0,\"ticks\":\"\"}}],\"histogram2d\":[{\"type\":\"histogram2d\",\"colorbar\":{\"outlinewidth\":0,\"ticks\":\"\"},\"colorscale\":[[0.0,\"#0d0887\"],[0.1111111111111111,\"#46039f\"],[0.2222222222222222,\"#7201a8\"],[0.3333333333333333,\"#9c179e\"],[0.4444444444444444,\"#bd3786\"],[0.5555555555555556,\"#d8576b\"],[0.6666666666666666,\"#ed7953\"],[0.7777777777777778,\"#fb9f3a\"],[0.8888888888888888,\"#fdca26\"],[1.0,\"#f0f921\"]]}],\"heatmap\":[{\"type\":\"heatmap\",\"colorbar\":{\"outlinewidth\":0,\"ticks\":\"\"},\"colorscale\":[[0.0,\"#0d0887\"],[0.1111111111111111,\"#46039f\"],[0.2222222222222222,\"#7201a8\"],[0.3333333333333333,\"#9c179e\"],[0.4444444444444444,\"#bd3786\"],[0.5555555555555556,\"#d8576b\"],[0.6666666666666666,\"#ed7953\"],[0.7777777777777778,\"#fb9f3a\"],[0.8888888888888888,\"#fdca26\"],[1.0,\"#f0f921\"]]}],\"heatmapgl\":[{\"type\":\"heatmapgl\",\"colorbar\":{\"outlinewidth\":0,\"ticks\":\"\"},\"colorscale\":[[0.0,\"#0d0887\"],[0.1111111111111111,\"#46039f\"],[0.2222222222222222,\"#7201a8\"],[0.3333333333333333,\"#9c179e\"],[0.4444444444444444,\"#bd3786\"],[0.5555555555555556,\"#d8576b\"],[0.6666666666666666,\"#ed7953\"],[0.7777777777777778,\"#fb9f3a\"],[0.8888888888888888,\"#fdca26\"],[1.0,\"#f0f921\"]]}],\"contourcarpet\":[{\"type\":\"contourcarpet\",\"colorbar\":{\"outlinewidth\":0,\"ticks\":\"\"}}],\"contour\":[{\"type\":\"contour\",\"colorbar\":{\"outlinewidth\":0,\"ticks\":\"\"},\"colorscale\":[[0.0,\"#0d0887\"],[0.1111111111111111,\"#46039f\"],[0.2222222222222222,\"#7201a8\"],[0.3333333333333333,\"#9c179e\"],[0.4444444444444444,\"#bd3786\"],[0.5555555555555556,\"#d8576b\"],[0.6666666666666666,\"#ed7953\"],[0.7777777777777778,\"#fb9f3a\"],[0.8888888888888888,\"#fdca26\"],[1.0,\"#f0f921\"]]}],\"surface\":[{\"type\":\"surface\",\"colorbar\":{\"outlinewidth\":0,\"ticks\":\"\"},\"colorscale\":[[0.0,\"#0d0887\"],[0.1111111111111111,\"#46039f\"],[0.2222222222222222,\"#7201a8\"],[0.3333333333333333,\"#9c179e\"],[0.4444444444444444,\"#bd3786\"],[0.5555555555555556,\"#d8576b\"],[0.6666666666666666,\"#ed7953\"],[0.7777777777777778,\"#fb9f3a\"],[0.8888888888888888,\"#fdca26\"],[1.0,\"#f0f921\"]]}],\"mesh3d\":[{\"type\":\"mesh3d\",\"colorbar\":{\"outlinewidth\":0,\"ticks\":\"\"}}],\"scatter\":[{\"fillpattern\":{\"fillmode\":\"overlay\",\"size\":10,\"solidity\":0.2},\"type\":\"scatter\"}],\"parcoords\":[{\"type\":\"parcoords\",\"line\":{\"colorbar\":{\"outlinewidth\":0,\"ticks\":\"\"}}}],\"scatterpolargl\":[{\"type\":\"scatterpolargl\",\"marker\":{\"colorbar\":{\"outlinewidth\":0,\"ticks\":\"\"}}}],\"bar\":[{\"error_x\":{\"color\":\"#2a3f5f\"},\"error_y\":{\"color\":\"#2a3f5f\"},\"marker\":{\"line\":{\"color\":\"#E5ECF6\",\"width\":0.5},\"pattern\":{\"fillmode\":\"overlay\",\"size\":10,\"solidity\":0.2}},\"type\":\"bar\"}],\"scattergeo\":[{\"type\":\"scattergeo\",\"marker\":{\"colorbar\":{\"outlinewidth\":0,\"ticks\":\"\"}}}],\"scatterpolar\":[{\"type\":\"scatterpolar\",\"marker\":{\"colorbar\":{\"outlinewidth\":0,\"ticks\":\"\"}}}],\"histogram\":[{\"marker\":{\"pattern\":{\"fillmode\":\"overlay\",\"size\":10,\"solidity\":0.2}},\"type\":\"histogram\"}],\"scattergl\":[{\"type\":\"scattergl\",\"marker\":{\"colorbar\":{\"outlinewidth\":0,\"ticks\":\"\"}}}],\"scatter3d\":[{\"type\":\"scatter3d\",\"line\":{\"colorbar\":{\"outlinewidth\":0,\"ticks\":\"\"}},\"marker\":{\"colorbar\":{\"outlinewidth\":0,\"ticks\":\"\"}}}],\"scattermapbox\":[{\"type\":\"scattermapbox\",\"marker\":{\"colorbar\":{\"outlinewidth\":0,\"ticks\":\"\"}}}],\"scatterternary\":[{\"type\":\"scatterternary\",\"marker\":{\"colorbar\":{\"outlinewidth\":0,\"ticks\":\"\"}}}],\"scattercarpet\":[{\"type\":\"scattercarpet\",\"marker\":{\"colorbar\":{\"outlinewidth\":0,\"ticks\":\"\"}}}],\"carpet\":[{\"aaxis\":{\"endlinecolor\":\"#2a3f5f\",\"gridcolor\":\"white\",\"linecolor\":\"white\",\"minorgridcolor\":\"white\",\"startlinecolor\":\"#2a3f5f\"},\"baxis\":{\"endlinecolor\":\"#2a3f5f\",\"gridcolor\":\"white\",\"linecolor\":\"white\",\"minorgridcolor\":\"white\",\"startlinecolor\":\"#2a3f5f\"},\"type\":\"carpet\"}],\"table\":[{\"cells\":{\"fill\":{\"color\":\"#EBF0F8\"},\"line\":{\"color\":\"white\"}},\"header\":{\"fill\":{\"color\":\"#C8D4E3\"},\"line\":{\"color\":\"white\"}},\"type\":\"table\"}],\"barpolar\":[{\"marker\":{\"line\":{\"color\":\"#E5ECF6\",\"width\":0.5},\"pattern\":{\"fillmode\":\"overlay\",\"size\":10,\"solidity\":0.2}},\"type\":\"barpolar\"}],\"pie\":[{\"automargin\":true,\"type\":\"pie\"}]},\"layout\":{\"autotypenumbers\":\"strict\",\"colorway\":[\"#636efa\",\"#EF553B\",\"#00cc96\",\"#ab63fa\",\"#FFA15A\",\"#19d3f3\",\"#FF6692\",\"#B6E880\",\"#FF97FF\",\"#FECB52\"],\"font\":{\"color\":\"#2a3f5f\"},\"hovermode\":\"closest\",\"hoverlabel\":{\"align\":\"left\"},\"paper_bgcolor\":\"white\",\"plot_bgcolor\":\"#E5ECF6\",\"polar\":{\"bgcolor\":\"#E5ECF6\",\"angularaxis\":{\"gridcolor\":\"white\",\"linecolor\":\"white\",\"ticks\":\"\"},\"radialaxis\":{\"gridcolor\":\"white\",\"linecolor\":\"white\",\"ticks\":\"\"}},\"ternary\":{\"bgcolor\":\"#E5ECF6\",\"aaxis\":{\"gridcolor\":\"white\",\"linecolor\":\"white\",\"ticks\":\"\"},\"baxis\":{\"gridcolor\":\"white\",\"linecolor\":\"white\",\"ticks\":\"\"},\"caxis\":{\"gridcolor\":\"white\",\"linecolor\":\"white\",\"ticks\":\"\"}},\"coloraxis\":{\"colorbar\":{\"outlinewidth\":0,\"ticks\":\"\"}},\"colorscale\":{\"sequential\":[[0.0,\"#0d0887\"],[0.1111111111111111,\"#46039f\"],[0.2222222222222222,\"#7201a8\"],[0.3333333333333333,\"#9c179e\"],[0.4444444444444444,\"#bd3786\"],[0.5555555555555556,\"#d8576b\"],[0.6666666666666666,\"#ed7953\"],[0.7777777777777778,\"#fb9f3a\"],[0.8888888888888888,\"#fdca26\"],[1.0,\"#f0f921\"]],\"sequentialminus\":[[0.0,\"#0d0887\"],[0.1111111111111111,\"#46039f\"],[0.2222222222222222,\"#7201a8\"],[0.3333333333333333,\"#9c179e\"],[0.4444444444444444,\"#bd3786\"],[0.5555555555555556,\"#d8576b\"],[0.6666666666666666,\"#ed7953\"],[0.7777777777777778,\"#fb9f3a\"],[0.8888888888888888,\"#fdca26\"],[1.0,\"#f0f921\"]],\"diverging\":[[0,\"#8e0152\"],[0.1,\"#c51b7d\"],[0.2,\"#de77ae\"],[0.3,\"#f1b6da\"],[0.4,\"#fde0ef\"],[0.5,\"#f7f7f7\"],[0.6,\"#e6f5d0\"],[0.7,\"#b8e186\"],[0.8,\"#7fbc41\"],[0.9,\"#4d9221\"],[1,\"#276419\"]]},\"xaxis\":{\"gridcolor\":\"white\",\"linecolor\":\"white\",\"ticks\":\"\",\"title\":{\"standoff\":15},\"zerolinecolor\":\"white\",\"automargin\":true,\"zerolinewidth\":2},\"yaxis\":{\"gridcolor\":\"white\",\"linecolor\":\"white\",\"ticks\":\"\",\"title\":{\"standoff\":15},\"zerolinecolor\":\"white\",\"automargin\":true,\"zerolinewidth\":2},\"scene\":{\"xaxis\":{\"backgroundcolor\":\"#E5ECF6\",\"gridcolor\":\"white\",\"linecolor\":\"white\",\"showbackground\":true,\"ticks\":\"\",\"zerolinecolor\":\"white\",\"gridwidth\":2},\"yaxis\":{\"backgroundcolor\":\"#E5ECF6\",\"gridcolor\":\"white\",\"linecolor\":\"white\",\"showbackground\":true,\"ticks\":\"\",\"zerolinecolor\":\"white\",\"gridwidth\":2},\"zaxis\":{\"backgroundcolor\":\"#E5ECF6\",\"gridcolor\":\"white\",\"linecolor\":\"white\",\"showbackground\":true,\"ticks\":\"\",\"zerolinecolor\":\"white\",\"gridwidth\":2}},\"shapedefaults\":{\"line\":{\"color\":\"#2a3f5f\"}},\"annotationdefaults\":{\"arrowcolor\":\"#2a3f5f\",\"arrowhead\":0,\"arrowwidth\":1},\"geo\":{\"bgcolor\":\"white\",\"landcolor\":\"#E5ECF6\",\"subunitcolor\":\"white\",\"showland\":true,\"showlakes\":true,\"lakecolor\":\"white\"},\"title\":{\"x\":0.05},\"mapbox\":{\"style\":\"light\"}}},\"xaxis\":{\"anchor\":\"y\",\"domain\":[0.0,1.0],\"title\":{\"text\":\"Name of Manufacturers\"}},\"yaxis\":{\"anchor\":\"x\",\"domain\":[0.0,1.0],\"title\":{\"text\":\"Count\"}},\"legend\":{\"tracegroupgap\":0},\"margin\":{\"t\":60},\"barmode\":\"relative\",\"plot_bgcolor\":\"#ECECEC\",\"title\":{\"text\":\"<b>Popular Manufacturers Category</b>\"}},                        {\"responsive\": true}                    ).then(function(){\n",
       "                            \n",
       "var gd = document.getElementById('d49d9bbf-f426-4274-ba50-671077df91a7');\n",
       "var x = new MutationObserver(function (mutations, observer) {{\n",
       "        var display = window.getComputedStyle(gd).display;\n",
       "        if (!display || display === 'none') {{\n",
       "            console.log([gd, 'removed!']);\n",
       "            Plotly.purge(gd);\n",
       "            observer.disconnect();\n",
       "        }}\n",
       "}});\n",
       "\n",
       "// Listen for the removal of the full notebook cells\n",
       "var notebookContainer = gd.closest('#notebook-container');\n",
       "if (notebookContainer) {{\n",
       "    x.observe(notebookContainer, {childList: true});\n",
       "}}\n",
       "\n",
       "// Listen for the clearing of the current output cell\n",
       "var outputEl = gd.closest('.output');\n",
       "if (outputEl) {{\n",
       "    x.observe(outputEl, {childList: true});\n",
       "}}\n",
       "\n",
       "                        })                };                });            </script>        </div>"
      ]
     },
     "metadata": {},
     "output_type": "display_data"
    }
   ],
   "source": [
    "fig = px.bar(mod_df, y = counts, x = values,\n",
    "            color_discrete_sequence = [\"green\"] * len(df))\n",
    "\n",
    "\n",
    "fig.update_layout(\n",
    "                 plot_bgcolor = \"#ECECEC\",\n",
    "                  yaxis_title = \"Count\",\n",
    "                xaxis_title = \"Name of Manufacturers\",\n",
    "                  title = \"<b>Popular Manufacturers Category</b>\"\n",
    "                 )\n",
    "fig.show()"
   ]
  },
  {
   "cell_type": "code",
   "execution_count": 16,
   "id": "6a64546e",
   "metadata": {
    "execution": {
     "iopub.execute_input": "2023-05-22T08:47:05.727434Z",
     "iopub.status.busy": "2023-05-22T08:47:05.726564Z",
     "iopub.status.idle": "2023-05-22T08:47:05.739212Z",
     "shell.execute_reply": "2023-05-22T08:47:05.737574Z"
    },
    "papermill": {
     "duration": 0.028889,
     "end_time": "2023-05-22T08:47:05.741731",
     "exception": false,
     "start_time": "2023-05-22T08:47:05.712842",
     "status": "completed"
    },
    "tags": []
   },
   "outputs": [
    {
     "name": "stdout",
     "output_type": "stream",
     "text": [
      "manufacturer\n",
      "Vincent      5.000\n",
      "Marc         5.000\n",
      "RazMaz       5.000\n",
      "Pink         5.000\n",
      "Goswami      5.000\n",
      "Guess        5.000\n",
      "Ameyes       5.000\n",
      "HASHTAG      5.000\n",
      "ARICKS       5.000\n",
      "Polariod     5.000\n",
      "Hidesign     5.000\n",
      "MONT         5.000\n",
      "SCUBE        5.000\n",
      "cultific     5.000\n",
      "IMAGE        5.000\n",
      "Sea          5.000\n",
      "Steve        5.000\n",
      "Smith        5.000\n",
      "Velocity     5.000\n",
      "ESS          4.800\n",
      "U.S.         4.800\n",
      "Clout        4.700\n",
      "Colzzy       4.700\n",
      "Gargoyles    4.700\n",
      "Costa        4.700\n",
      "Giro         4.700\n",
      "6            4.700\n",
      "Tommy        4.650\n",
      "BOJOD        4.600\n",
      "Prada        4.600\n",
      "COASION      4.600\n",
      "ENRICO       4.600\n",
      "YooThink     4.600\n",
      "Large        4.600\n",
      "Spy          4.600\n",
      "KALIYADI     4.600\n",
      "hipe         4.600\n",
      "Karsaer      4.600\n",
      "Double       4.575\n",
      "V.W.E.       4.550\n",
      "AEVOGUE      4.500\n",
      "ENTHYI       4.500\n",
      "4            4.500\n",
      "EYLRIM       4.500\n",
      "BAERFIT      4.500\n",
      "VonZipper    4.500\n",
      "Locs         4.500\n",
      "Gtand        4.500\n",
      "Matte        4.500\n",
      "MEETSUN      4.500\n",
      "Name: ratings, dtype: float64\n"
     ]
    }
   ],
   "source": [
    "#Sort based on rating\n",
    "manufacturer_ratings = mod_df.groupby('manufacturer')['ratings'].mean()\n",
    "top_manufacturers = manufacturer_ratings.sort_values(ascending=False).head(50)\n",
    "print(top_manufacturers)"
   ]
  },
  {
   "cell_type": "code",
   "execution_count": 17,
   "id": "df6a53c2",
   "metadata": {
    "execution": {
     "iopub.execute_input": "2023-05-22T08:47:05.768573Z",
     "iopub.status.busy": "2023-05-22T08:47:05.767961Z",
     "iopub.status.idle": "2023-05-22T08:47:05.781677Z",
     "shell.execute_reply": "2023-05-22T08:47:05.780913Z"
    },
    "papermill": {
     "duration": 0.02997,
     "end_time": "2023-05-22T08:47:05.783793",
     "exception": false,
     "start_time": "2023-05-22T08:47:05.753823",
     "status": "completed"
    },
    "tags": []
   },
   "outputs": [
    {
     "data": {
      "text/html": [
       "<div>\n",
       "<style scoped>\n",
       "    .dataframe tbody tr th:only-of-type {\n",
       "        vertical-align: middle;\n",
       "    }\n",
       "\n",
       "    .dataframe tbody tr th {\n",
       "        vertical-align: top;\n",
       "    }\n",
       "\n",
       "    .dataframe thead th {\n",
       "        text-align: right;\n",
       "    }\n",
       "</style>\n",
       "<table border=\"1\" class=\"dataframe\">\n",
       "  <thead>\n",
       "    <tr style=\"text-align: right;\">\n",
       "      <th></th>\n",
       "      <th>manufacturer</th>\n",
       "      <th>ratings</th>\n",
       "    </tr>\n",
       "  </thead>\n",
       "  <tbody>\n",
       "    <tr>\n",
       "      <th>0</th>\n",
       "      <td>Fastrack</td>\n",
       "      <td>3.9</td>\n",
       "    </tr>\n",
       "    <tr>\n",
       "      <th>1</th>\n",
       "      <td>NUVeW</td>\n",
       "      <td>3.7</td>\n",
       "    </tr>\n",
       "    <tr>\n",
       "      <th>2</th>\n",
       "      <td>ENRICO</td>\n",
       "      <td>4.6</td>\n",
       "    </tr>\n",
       "    <tr>\n",
       "      <th>3</th>\n",
       "      <td>Royal</td>\n",
       "      <td>3.6</td>\n",
       "    </tr>\n",
       "    <tr>\n",
       "      <th>4</th>\n",
       "      <td>GUESS</td>\n",
       "      <td>3.3</td>\n",
       "    </tr>\n",
       "    <tr>\n",
       "      <th>...</th>\n",
       "      <td>...</td>\n",
       "      <td>...</td>\n",
       "    </tr>\n",
       "    <tr>\n",
       "      <th>1375</th>\n",
       "      <td>WOWSUN</td>\n",
       "      <td>4.3</td>\n",
       "    </tr>\n",
       "    <tr>\n",
       "      <th>1376</th>\n",
       "      <td>Pomelo</td>\n",
       "      <td>4.2</td>\n",
       "    </tr>\n",
       "    <tr>\n",
       "      <th>1377</th>\n",
       "      <td>SOJOS</td>\n",
       "      <td>4.4</td>\n",
       "    </tr>\n",
       "    <tr>\n",
       "      <th>1388</th>\n",
       "      <td>Dorakitten</td>\n",
       "      <td>0.0</td>\n",
       "    </tr>\n",
       "    <tr>\n",
       "      <th>1390</th>\n",
       "      <td>Dorakitten</td>\n",
       "      <td>0.0</td>\n",
       "    </tr>\n",
       "  </tbody>\n",
       "</table>\n",
       "<p>371 rows × 2 columns</p>\n",
       "</div>"
      ],
      "text/plain": [
       "     manufacturer  ratings\n",
       "0        Fastrack      3.9\n",
       "1           NUVeW      3.7\n",
       "2          ENRICO      4.6\n",
       "3           Royal      3.6\n",
       "4           GUESS      3.3\n",
       "...           ...      ...\n",
       "1375       WOWSUN      4.3\n",
       "1376       Pomelo      4.2\n",
       "1377        SOJOS      4.4\n",
       "1388   Dorakitten      0.0\n",
       "1390   Dorakitten      0.0\n",
       "\n",
       "[371 rows x 2 columns]"
      ]
     },
     "execution_count": 17,
     "metadata": {},
     "output_type": "execute_result"
    }
   ],
   "source": [
    "#New Dataframe with only two column\n",
    "selected_columns = ['manufacturer', 'ratings'] \n",
    "new_df = mod_df[selected_columns]\n",
    "new_df"
   ]
  },
  {
   "cell_type": "code",
   "execution_count": 18,
   "id": "394c6a6c",
   "metadata": {
    "execution": {
     "iopub.execute_input": "2023-05-22T08:47:05.810639Z",
     "iopub.status.busy": "2023-05-22T08:47:05.810011Z",
     "iopub.status.idle": "2023-05-22T08:47:05.817025Z",
     "shell.execute_reply": "2023-05-22T08:47:05.815982Z"
    },
    "papermill": {
     "duration": 0.023126,
     "end_time": "2023-05-22T08:47:05.819265",
     "exception": false,
     "start_time": "2023-05-22T08:47:05.796139",
     "status": "completed"
    },
    "tags": []
   },
   "outputs": [
    {
     "data": {
      "text/plain": [
       "<pandas.core.groupby.generic.DataFrameGroupBy object at 0x7810d7185f60>"
      ]
     },
     "execution_count": 18,
     "metadata": {},
     "output_type": "execute_result"
    }
   ],
   "source": [
    "\n",
    "var_new = new_df.groupby(\"manufacturer\")\n",
    "var_new"
   ]
  },
  {
   "cell_type": "code",
   "execution_count": 19,
   "id": "364e64ba",
   "metadata": {
    "execution": {
     "iopub.execute_input": "2023-05-22T08:47:05.846494Z",
     "iopub.status.busy": "2023-05-22T08:47:05.846115Z",
     "iopub.status.idle": "2023-05-22T08:47:05.860770Z",
     "shell.execute_reply": "2023-05-22T08:47:05.859762Z"
    },
    "papermill": {
     "duration": 0.030957,
     "end_time": "2023-05-22T08:47:05.862925",
     "exception": false,
     "start_time": "2023-05-22T08:47:05.831968",
     "status": "completed"
    },
    "tags": []
   },
   "outputs": [
    {
     "data": {
      "text/html": [
       "<div>\n",
       "<style scoped>\n",
       "    .dataframe tbody tr th:only-of-type {\n",
       "        vertical-align: middle;\n",
       "    }\n",
       "\n",
       "    .dataframe tbody tr th {\n",
       "        vertical-align: top;\n",
       "    }\n",
       "\n",
       "    .dataframe thead th {\n",
       "        text-align: right;\n",
       "    }\n",
       "</style>\n",
       "<table border=\"1\" class=\"dataframe\">\n",
       "  <thead>\n",
       "    <tr style=\"text-align: right;\">\n",
       "      <th></th>\n",
       "      <th>ratings</th>\n",
       "    </tr>\n",
       "    <tr>\n",
       "      <th>manufacturer</th>\n",
       "      <th></th>\n",
       "    </tr>\n",
       "  </thead>\n",
       "  <tbody>\n",
       "    <tr>\n",
       "      <th>17KM</th>\n",
       "      <td>4.2</td>\n",
       "    </tr>\n",
       "    <tr>\n",
       "      <th>2</th>\n",
       "      <td>4.4</td>\n",
       "    </tr>\n",
       "    <tr>\n",
       "      <th>2019</th>\n",
       "      <td>2.7</td>\n",
       "    </tr>\n",
       "    <tr>\n",
       "      <th>3</th>\n",
       "      <td>3.6</td>\n",
       "    </tr>\n",
       "    <tr>\n",
       "      <th>4</th>\n",
       "      <td>4.5</td>\n",
       "    </tr>\n",
       "    <tr>\n",
       "      <th>...</th>\n",
       "      <td>...</td>\n",
       "    </tr>\n",
       "    <tr>\n",
       "      <th>grey</th>\n",
       "      <td>4.1</td>\n",
       "    </tr>\n",
       "    <tr>\n",
       "      <th>hipe</th>\n",
       "      <td>4.6</td>\n",
       "    </tr>\n",
       "    <tr>\n",
       "      <th>myaddiction</th>\n",
       "      <td>0.0</td>\n",
       "    </tr>\n",
       "    <tr>\n",
       "      <th>rofek</th>\n",
       "      <td>3.4</td>\n",
       "    </tr>\n",
       "    <tr>\n",
       "      <th>tecmac</th>\n",
       "      <td>3.5</td>\n",
       "    </tr>\n",
       "  </tbody>\n",
       "</table>\n",
       "<p>168 rows × 1 columns</p>\n",
       "</div>"
      ],
      "text/plain": [
       "              ratings\n",
       "manufacturer         \n",
       "17KM              4.2\n",
       "2                 4.4\n",
       "2019              2.7\n",
       "3                 3.6\n",
       "4                 4.5\n",
       "...               ...\n",
       "grey              4.1\n",
       "hipe              4.6\n",
       "myaddiction       0.0\n",
       "rofek             3.4\n",
       "tecmac            3.5\n",
       "\n",
       "[168 rows x 1 columns]"
      ]
     },
     "execution_count": 19,
     "metadata": {},
     "output_type": "execute_result"
    }
   ],
   "source": [
    "var_new.mean()"
   ]
  },
  {
   "cell_type": "code",
   "execution_count": 20,
   "id": "d39b9f4a",
   "metadata": {
    "execution": {
     "iopub.execute_input": "2023-05-22T08:47:05.891084Z",
     "iopub.status.busy": "2023-05-22T08:47:05.890295Z",
     "iopub.status.idle": "2023-05-22T08:47:05.901604Z",
     "shell.execute_reply": "2023-05-22T08:47:05.900538Z"
    },
    "papermill": {
     "duration": 0.028153,
     "end_time": "2023-05-22T08:47:05.904217",
     "exception": false,
     "start_time": "2023-05-22T08:47:05.876064",
     "status": "completed"
    },
    "tags": []
   },
   "outputs": [
    {
     "name": "stdout",
     "output_type": "stream",
     "text": [
      "     manufacturer  ratings\n",
      "4           GUESS      3.3\n",
      "98          GUESS      1.0\n",
      "786         GUESS      5.0\n",
      "787         GUESS      4.5\n",
      "793         GUESS      5.0\n",
      "794         GUESS      5.0\n",
      "882         GUESS      5.0\n",
      "885         GUESS      4.4\n",
      "886         GUESS      4.2\n",
      "887         GUESS      3.8\n",
      "888         GUESS      4.5\n",
      "889         GUESS      4.4\n",
      "943         GUESS      5.0\n",
      "990         GUESS      5.0\n",
      "997         GUESS      4.2\n",
      "1012        GUESS      4.2\n",
      "1030        GUESS      4.2\n",
      "1042        GUESS      4.3\n",
      "1048        GUESS      4.2\n",
      "1101        GUESS      5.0\n",
      "1102        GUESS      4.0\n",
      "1103        GUESS      4.4\n",
      "1117        GUESS      4.2\n",
      "1125        GUESS      4.4\n",
      "1134        GUESS      4.2\n"
     ]
    }
   ],
   "source": [
    "# Replace with the manufacturer name you want to filter\n",
    "manufacturer_name = 'GUESS'  \n",
    "\n",
    "# Use boolean indexing to select rows with the specific manufacturer name\n",
    "manufacturer_rows = new_df[new_df['manufacturer'] == manufacturer_name]\n",
    "\n",
    "# Display the selected rows\n",
    "print(manufacturer_rows)"
   ]
  },
  {
   "cell_type": "code",
   "execution_count": 21,
   "id": "b7dd31f8",
   "metadata": {
    "execution": {
     "iopub.execute_input": "2023-05-22T08:47:05.932582Z",
     "iopub.status.busy": "2023-05-22T08:47:05.931819Z",
     "iopub.status.idle": "2023-05-22T08:47:05.945185Z",
     "shell.execute_reply": "2023-05-22T08:47:05.944153Z"
    },
    "papermill": {
     "duration": 0.029993,
     "end_time": "2023-05-22T08:47:05.947390",
     "exception": false,
     "start_time": "2023-05-22T08:47:05.917397",
     "status": "completed"
    },
    "tags": []
   },
   "outputs": [
    {
     "name": "stdout",
     "output_type": "stream",
     "text": [
      "     manufacturer  ratings\n",
      "4           GUESS      3.3\n",
      "61          SOJOS      3.6\n",
      "81          Vogue      4.3\n",
      "91          Vogue      4.7\n",
      "98          GUESS      1.0\n",
      "...           ...      ...\n",
      "1345        SOJOS      4.4\n",
      "1346        SOJOS      4.4\n",
      "1353        SOJOS      4.5\n",
      "1370        SOJOS      4.5\n",
      "1377        SOJOS      4.4\n",
      "\n",
      "[127 rows x 2 columns]\n"
     ]
    },
    {
     "data": {
      "text/plain": [
       "array(['GUESS', 'SOJOS', 'Vogue', 'Aswadh', 'CALANDIS', 'Oakley',\n",
       "       'ARZONAI', 'COACH', 'Kate', 'WorldCare®'], dtype=object)"
      ]
     },
     "execution_count": 21,
     "metadata": {},
     "output_type": "execute_result"
    }
   ],
   "source": [
    "# Replace with the manufacturer names you want to filter\n",
    "manufacturer_names = values \n",
    "\n",
    "# Use boolean indexing to select rows with the specific manufacturer names\n",
    "filtered_df = new_df[new_df['manufacturer'].isin(manufacturer_names)]\n",
    "\n",
    "# Display the new dataset\n",
    "print(filtered_df)\n",
    "\n",
    "filtered_df['manufacturer'].unique()"
   ]
  },
  {
   "cell_type": "code",
   "execution_count": 22,
   "id": "64322a46",
   "metadata": {
    "execution": {
     "iopub.execute_input": "2023-05-22T08:47:05.976135Z",
     "iopub.status.busy": "2023-05-22T08:47:05.975694Z",
     "iopub.status.idle": "2023-05-22T08:47:05.989204Z",
     "shell.execute_reply": "2023-05-22T08:47:05.988145Z"
    },
    "papermill": {
     "duration": 0.030477,
     "end_time": "2023-05-22T08:47:05.991460",
     "exception": false,
     "start_time": "2023-05-22T08:47:05.960983",
     "status": "completed"
    },
    "tags": []
   },
   "outputs": [
    {
     "data": {
      "text/html": [
       "<div>\n",
       "<style scoped>\n",
       "    .dataframe tbody tr th:only-of-type {\n",
       "        vertical-align: middle;\n",
       "    }\n",
       "\n",
       "    .dataframe tbody tr th {\n",
       "        vertical-align: top;\n",
       "    }\n",
       "\n",
       "    .dataframe thead th {\n",
       "        text-align: right;\n",
       "    }\n",
       "</style>\n",
       "<table border=\"1\" class=\"dataframe\">\n",
       "  <thead>\n",
       "    <tr style=\"text-align: right;\">\n",
       "      <th></th>\n",
       "      <th>ratings</th>\n",
       "    </tr>\n",
       "    <tr>\n",
       "      <th>manufacturer</th>\n",
       "      <th></th>\n",
       "    </tr>\n",
       "  </thead>\n",
       "  <tbody>\n",
       "    <tr>\n",
       "      <th>ARZONAI</th>\n",
       "      <td>1.833333</td>\n",
       "    </tr>\n",
       "    <tr>\n",
       "      <th>Aswadh</th>\n",
       "      <td>0.000000</td>\n",
       "    </tr>\n",
       "    <tr>\n",
       "      <th>CALANDIS</th>\n",
       "      <td>0.000000</td>\n",
       "    </tr>\n",
       "    <tr>\n",
       "      <th>COACH</th>\n",
       "      <td>4.314286</td>\n",
       "    </tr>\n",
       "    <tr>\n",
       "      <th>GUESS</th>\n",
       "      <td>4.296000</td>\n",
       "    </tr>\n",
       "    <tr>\n",
       "      <th>Kate</th>\n",
       "      <td>4.218182</td>\n",
       "    </tr>\n",
       "    <tr>\n",
       "      <th>Oakley</th>\n",
       "      <td>4.144444</td>\n",
       "    </tr>\n",
       "    <tr>\n",
       "      <th>SOJOS</th>\n",
       "      <td>4.350000</td>\n",
       "    </tr>\n",
       "    <tr>\n",
       "      <th>Vogue</th>\n",
       "      <td>4.209091</td>\n",
       "    </tr>\n",
       "    <tr>\n",
       "      <th>WorldCare®</th>\n",
       "      <td>0.000000</td>\n",
       "    </tr>\n",
       "  </tbody>\n",
       "</table>\n",
       "</div>"
      ],
      "text/plain": [
       "               ratings\n",
       "manufacturer          \n",
       "ARZONAI       1.833333\n",
       "Aswadh        0.000000\n",
       "CALANDIS      0.000000\n",
       "COACH         4.314286\n",
       "GUESS         4.296000\n",
       "Kate          4.218182\n",
       "Oakley        4.144444\n",
       "SOJOS         4.350000\n",
       "Vogue         4.209091\n",
       "WorldCare®    0.000000"
      ]
     },
     "execution_count": 22,
     "metadata": {},
     "output_type": "execute_result"
    }
   ],
   "source": [
    "#Check mean of top manufacturer ratings\n",
    "var_new = filtered_df.groupby(\"manufacturer\")\n",
    "var_new.mean()"
   ]
  },
  {
   "cell_type": "code",
   "execution_count": 23,
   "id": "f7c72777",
   "metadata": {
    "execution": {
     "iopub.execute_input": "2023-05-22T08:47:06.019778Z",
     "iopub.status.busy": "2023-05-22T08:47:06.019341Z",
     "iopub.status.idle": "2023-05-22T08:47:06.403583Z",
     "shell.execute_reply": "2023-05-22T08:47:06.402750Z"
    },
    "papermill": {
     "duration": 0.401172,
     "end_time": "2023-05-22T08:47:06.406068",
     "exception": false,
     "start_time": "2023-05-22T08:47:06.004896",
     "status": "completed"
    },
    "tags": []
   },
   "outputs": [
    {
     "data": {
      "image/png": "[encoded data removed]",
      "text/plain": [
       "<Figure size 640x480 with 1 Axes>"
      ]
     },
     "metadata": {},
     "output_type": "display_data"
    }
   ],
   "source": [
    "\n",
    "grouped_data = filtered_df.groupby('manufacturer').mean()\n",
    "\n",
    "# Plot the grouped data\n",
    "grouped_data.plot(kind='bar')\n",
    "plt.xlabel('Manufacturer')\n",
    "plt.ylabel('Average var_new')\n",
    "plt.title('Average var_new by Manufacturer')\n",
    "plt.show()"
   ]
  },
  {
   "cell_type": "markdown",
   "id": "f9bc7451",
   "metadata": {
    "papermill": {
     "duration": 0.013677,
     "end_time": "2023-05-22T08:47:06.437537",
     "exception": false,
     "start_time": "2023-05-22T08:47:06.423860",
     "status": "completed"
    },
    "tags": []
   },
   "source": [
    "\n",
    "# Conclusion\n",
    "\n",
    "Based on the analysis of customer ratings for sunglasses products, several key observations can be made:\n",
    "\n",
    "* ***Customer Ratings:*** Despite only 26.65% of the products being rated, the majority of the ratings received are valid and not fake.\n",
    "\n",
    "* ***Top 10 Manufacturers:*** The top 10 manufacturers based on the average rating of their products exhibit favorable ratings, with most of them scoring above 4. This indicates that customers generally have positive experiences with products from these manufacturers.\n",
    "\n",
    "* ***Popularity and Customer Preferences:*** The high ratings for popular products suggest that customers are more likely to purchase well-known and popular sunglasses brands. However, it's important to note that popularity does not always correlate with high ratings, as there are also highly rated products from less well-known manufacturers.\n",
    "\n",
    "* ***Varied Rating Participation:*** It is evident that not all customers who purchase sunglasses products provide ratings. This indicates that while some customers actively rate the products they purchase, others may not engage in rating them.\n",
    "\n",
    "In conclusion, the analysis suggests that the customer ratings for sunglasses products are largely reliable, and popular products tend to have positive ratings. However, it is essential to consider both popular and lesser-known manufacturers, as highly rated products can be found across a range of brands."
   ]
  },
  {
   "cell_type": "code",
   "execution_count": null,
   "id": "ca5dcccb",
   "metadata": {
    "papermill": {
     "duration": 0.013789,
     "end_time": "2023-05-22T08:47:06.466040",
     "exception": false,
     "start_time": "2023-05-22T08:47:06.452251",
     "status": "completed"
    },
    "tags": []
   },
   "outputs": [],
   "source": []
  }
 ],
 "metadata": {
  "kernelspec": {
   "display_name": "Python 3 (ipykernel)",
   "language": "python",
   "name": "python3"
  },
  "language_info": {
   "codemirror_mode": {
    "name": "ipython",
    "version": 3
   },
   "file_extension": ".py",
   "mimetype": "text/x-python",
   "name": "python",
   "nbconvert_exporter": "python",
   "pygments_lexer": "ipython3",
   "version": "3.9.13"
  },
  "papermill": {
   "default_parameters": {},
   "duration": 16.638425,
   "end_time": "2023-05-22T08:47:07.403317",
   "environment_variables": {},
   "exception": null,
   "input_path": "__notebook__.ipynb",
   "output_path": "__notebook__.ipynb",
   "parameters": {},
   "start_time": "2023-05-22T08:46:50.764892",
   "version": "2.4.0"
  }
 },
 "nbformat": 4,
 "nbformat_minor": 5
}
